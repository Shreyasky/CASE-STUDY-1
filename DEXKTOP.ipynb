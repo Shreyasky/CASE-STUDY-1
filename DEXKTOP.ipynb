{
 "cells": [
  {
   "cell_type": "markdown",
   "id": "815dcdf4",
   "metadata": {},
   "source": [
    "# Exploratory Data Analysis using Python - A Case Study\n",
    "*Analyzing responses from the Stack Overflow Annual Developer Survey 2020*"
   ]
  },
  {
   "cell_type": "markdown",
   "id": "cf7d3366",
   "metadata": {},
   "source": [
    "###  Steps use in this analysis\n",
    "- Selecting and downloading a dataset\n",
    "- Data preparation and cleaning\n",
    "- Exploratory analysis and visualization\n",
    "- Asking and answering interesting questions\n",
    "- Summarizing inferences and drawing conclusions"
   ]
  },
  {
   "cell_type": "markdown",
   "id": "f5ad718a",
   "metadata": {},
   "source": [
    "## Introduction\n",
    "In this tutorial, we'll analyze the StackOverflow developer survey dataset. The dataset contains responses to an annual survey conducted by StackOverflow. You can find the raw data & official analysis here: https://insights.stackoverflow.com/survey.\n",
    "\n",
    "Use a helper library, e.g., opendatasets, which contains a collection of curated datasets and provides a helper function for direct download.\n",
    "We'll use the opendatasets helper library to download the files."
   ]
  },
  {
   "cell_type": "markdown",
   "id": "a44f8c1c",
   "metadata": {},
   "source": [
    "### opendatasets is a Python library for downloading datasets from online sources like Kaggle and Google Drive using a simple Python command."
   ]
  },
  {
   "cell_type": "code",
   "execution_count": 1,
   "id": "0e781f3f",
   "metadata": {},
   "outputs": [],
   "source": [
    "!pip install opendatasets --upgrade --quiet"
   ]
  },
  {
   "cell_type": "code",
   "execution_count": 2,
   "id": "94806d6e",
   "metadata": {},
   "outputs": [],
   "source": [
    "import opendatasets as od"
   ]
  },
  {
   "cell_type": "code",
   "execution_count": 3,
   "id": "d3d19589",
   "metadata": {},
   "outputs": [
    {
     "name": "stdout",
     "output_type": "stream",
     "text": [
      "Using downloaded and verified file: ./stackoverflow-developer-survey-2020/survey_results_public.csv\n",
      "Using downloaded and verified file: ./stackoverflow-developer-survey-2020/survey_results_schema.csv\n",
      "Using downloaded and verified file: ./stackoverflow-developer-survey-2020/README.txt\n"
     ]
    }
   ],
   "source": [
    "od.download('stackoverflow-developer-survey-2020')"
   ]
  },
  {
   "cell_type": "markdown",
   "id": "ff6aec13",
   "metadata": {},
   "source": [
    "### To verify downloaded file "
   ]
  },
  {
   "cell_type": "code",
   "execution_count": 4,
   "id": "bb4358e6",
   "metadata": {},
   "outputs": [
    {
     "data": {
      "text/plain": [
       "['survey_results_public.csv', 'survey_results_schema.csv', 'README.txt']"
      ]
     },
     "execution_count": 4,
     "metadata": {},
     "output_type": "execute_result"
    }
   ],
   "source": [
    "import os\n",
    "os.listdir('stackoverflow-developer-survey-2020')"
   ]
  },
  {
   "cell_type": "markdown",
   "id": "0f9eeec3",
   "metadata": {},
   "source": [
    "#### Let's load the CSV files using the Pandas library. We'll use the name survey_raw_df for the data frame to indicate this is unprocessed data that we might clean, filter, and modify to prepare a data frame ready for analysis."
   ]
  },
  {
   "cell_type": "code",
   "execution_count": 5,
   "id": "a5613c3a",
   "metadata": {},
   "outputs": [],
   "source": [
    "import pandas as pd"
   ]
  },
  {
   "cell_type": "code",
   "execution_count": 6,
   "id": "2b2f91f0",
   "metadata": {},
   "outputs": [],
   "source": [
    "survey = pd.read_csv('stackoverflow-developer-survey-2020/survey_results_public.csv')"
   ]
  },
  {
   "cell_type": "code",
   "execution_count": 7,
   "id": "75bd4ac0",
   "metadata": {},
   "outputs": [
    {
     "data": {
      "text/html": [
       "<div>\n",
       "<style scoped>\n",
       "    .dataframe tbody tr th:only-of-type {\n",
       "        vertical-align: middle;\n",
       "    }\n",
       "\n",
       "    .dataframe tbody tr th {\n",
       "        vertical-align: top;\n",
       "    }\n",
       "\n",
       "    .dataframe thead th {\n",
       "        text-align: right;\n",
       "    }\n",
       "</style>\n",
       "<table border=\"1\" class=\"dataframe\">\n",
       "  <thead>\n",
       "    <tr style=\"text-align: right;\">\n",
       "      <th></th>\n",
       "      <th>Respondent</th>\n",
       "      <th>MainBranch</th>\n",
       "      <th>Hobbyist</th>\n",
       "      <th>Age</th>\n",
       "      <th>Age1stCode</th>\n",
       "      <th>CompFreq</th>\n",
       "      <th>CompTotal</th>\n",
       "      <th>ConvertedComp</th>\n",
       "      <th>Country</th>\n",
       "      <th>CurrencyDesc</th>\n",
       "      <th>...</th>\n",
       "      <th>SurveyEase</th>\n",
       "      <th>SurveyLength</th>\n",
       "      <th>Trans</th>\n",
       "      <th>UndergradMajor</th>\n",
       "      <th>WebframeDesireNextYear</th>\n",
       "      <th>WebframeWorkedWith</th>\n",
       "      <th>WelcomeChange</th>\n",
       "      <th>WorkWeekHrs</th>\n",
       "      <th>YearsCode</th>\n",
       "      <th>YearsCodePro</th>\n",
       "    </tr>\n",
       "  </thead>\n",
       "  <tbody>\n",
       "    <tr>\n",
       "      <th>0</th>\n",
       "      <td>1</td>\n",
       "      <td>I am a developer by profession</td>\n",
       "      <td>Yes</td>\n",
       "      <td>NaN</td>\n",
       "      <td>13</td>\n",
       "      <td>Monthly</td>\n",
       "      <td>NaN</td>\n",
       "      <td>NaN</td>\n",
       "      <td>Germany</td>\n",
       "      <td>European Euro</td>\n",
       "      <td>...</td>\n",
       "      <td>Neither easy nor difficult</td>\n",
       "      <td>Appropriate in length</td>\n",
       "      <td>No</td>\n",
       "      <td>Computer science, computer engineering, or sof...</td>\n",
       "      <td>ASP.NET Core</td>\n",
       "      <td>ASP.NET;ASP.NET Core</td>\n",
       "      <td>Just as welcome now as I felt last year</td>\n",
       "      <td>50.0</td>\n",
       "      <td>36</td>\n",
       "      <td>27</td>\n",
       "    </tr>\n",
       "    <tr>\n",
       "      <th>1</th>\n",
       "      <td>2</td>\n",
       "      <td>I am a developer by profession</td>\n",
       "      <td>No</td>\n",
       "      <td>NaN</td>\n",
       "      <td>19</td>\n",
       "      <td>NaN</td>\n",
       "      <td>NaN</td>\n",
       "      <td>NaN</td>\n",
       "      <td>United Kingdom</td>\n",
       "      <td>Pound sterling</td>\n",
       "      <td>...</td>\n",
       "      <td>NaN</td>\n",
       "      <td>NaN</td>\n",
       "      <td>NaN</td>\n",
       "      <td>Computer science, computer engineering, or sof...</td>\n",
       "      <td>NaN</td>\n",
       "      <td>NaN</td>\n",
       "      <td>Somewhat more welcome now than last year</td>\n",
       "      <td>NaN</td>\n",
       "      <td>7</td>\n",
       "      <td>4</td>\n",
       "    </tr>\n",
       "    <tr>\n",
       "      <th>2</th>\n",
       "      <td>3</td>\n",
       "      <td>I code primarily as a hobby</td>\n",
       "      <td>Yes</td>\n",
       "      <td>NaN</td>\n",
       "      <td>15</td>\n",
       "      <td>NaN</td>\n",
       "      <td>NaN</td>\n",
       "      <td>NaN</td>\n",
       "      <td>Russian Federation</td>\n",
       "      <td>NaN</td>\n",
       "      <td>...</td>\n",
       "      <td>Neither easy nor difficult</td>\n",
       "      <td>Appropriate in length</td>\n",
       "      <td>NaN</td>\n",
       "      <td>NaN</td>\n",
       "      <td>NaN</td>\n",
       "      <td>NaN</td>\n",
       "      <td>Somewhat more welcome now than last year</td>\n",
       "      <td>NaN</td>\n",
       "      <td>4</td>\n",
       "      <td>NaN</td>\n",
       "    </tr>\n",
       "    <tr>\n",
       "      <th>3</th>\n",
       "      <td>4</td>\n",
       "      <td>I am a developer by profession</td>\n",
       "      <td>Yes</td>\n",
       "      <td>25.0</td>\n",
       "      <td>18</td>\n",
       "      <td>NaN</td>\n",
       "      <td>NaN</td>\n",
       "      <td>NaN</td>\n",
       "      <td>Albania</td>\n",
       "      <td>Albanian lek</td>\n",
       "      <td>...</td>\n",
       "      <td>NaN</td>\n",
       "      <td>NaN</td>\n",
       "      <td>No</td>\n",
       "      <td>Computer science, computer engineering, or sof...</td>\n",
       "      <td>NaN</td>\n",
       "      <td>NaN</td>\n",
       "      <td>Somewhat less welcome now than last year</td>\n",
       "      <td>40.0</td>\n",
       "      <td>7</td>\n",
       "      <td>4</td>\n",
       "    </tr>\n",
       "    <tr>\n",
       "      <th>4</th>\n",
       "      <td>5</td>\n",
       "      <td>I used to be a developer by profession, but no...</td>\n",
       "      <td>Yes</td>\n",
       "      <td>31.0</td>\n",
       "      <td>16</td>\n",
       "      <td>NaN</td>\n",
       "      <td>NaN</td>\n",
       "      <td>NaN</td>\n",
       "      <td>United States</td>\n",
       "      <td>NaN</td>\n",
       "      <td>...</td>\n",
       "      <td>Easy</td>\n",
       "      <td>Too short</td>\n",
       "      <td>No</td>\n",
       "      <td>Computer science, computer engineering, or sof...</td>\n",
       "      <td>Django;Ruby on Rails</td>\n",
       "      <td>Ruby on Rails</td>\n",
       "      <td>Just as welcome now as I felt last year</td>\n",
       "      <td>NaN</td>\n",
       "      <td>15</td>\n",
       "      <td>8</td>\n",
       "    </tr>\n",
       "    <tr>\n",
       "      <th>...</th>\n",
       "      <td>...</td>\n",
       "      <td>...</td>\n",
       "      <td>...</td>\n",
       "      <td>...</td>\n",
       "      <td>...</td>\n",
       "      <td>...</td>\n",
       "      <td>...</td>\n",
       "      <td>...</td>\n",
       "      <td>...</td>\n",
       "      <td>...</td>\n",
       "      <td>...</td>\n",
       "      <td>...</td>\n",
       "      <td>...</td>\n",
       "      <td>...</td>\n",
       "      <td>...</td>\n",
       "      <td>...</td>\n",
       "      <td>...</td>\n",
       "      <td>...</td>\n",
       "      <td>...</td>\n",
       "      <td>...</td>\n",
       "      <td>...</td>\n",
       "    </tr>\n",
       "    <tr>\n",
       "      <th>64456</th>\n",
       "      <td>64858</td>\n",
       "      <td>NaN</td>\n",
       "      <td>Yes</td>\n",
       "      <td>NaN</td>\n",
       "      <td>16</td>\n",
       "      <td>NaN</td>\n",
       "      <td>NaN</td>\n",
       "      <td>NaN</td>\n",
       "      <td>United States</td>\n",
       "      <td>NaN</td>\n",
       "      <td>...</td>\n",
       "      <td>NaN</td>\n",
       "      <td>NaN</td>\n",
       "      <td>NaN</td>\n",
       "      <td>Computer science, computer engineering, or sof...</td>\n",
       "      <td>NaN</td>\n",
       "      <td>NaN</td>\n",
       "      <td>NaN</td>\n",
       "      <td>NaN</td>\n",
       "      <td>10</td>\n",
       "      <td>Less than 1 year</td>\n",
       "    </tr>\n",
       "    <tr>\n",
       "      <th>64457</th>\n",
       "      <td>64867</td>\n",
       "      <td>NaN</td>\n",
       "      <td>Yes</td>\n",
       "      <td>NaN</td>\n",
       "      <td>NaN</td>\n",
       "      <td>NaN</td>\n",
       "      <td>NaN</td>\n",
       "      <td>NaN</td>\n",
       "      <td>Morocco</td>\n",
       "      <td>NaN</td>\n",
       "      <td>...</td>\n",
       "      <td>NaN</td>\n",
       "      <td>NaN</td>\n",
       "      <td>NaN</td>\n",
       "      <td>NaN</td>\n",
       "      <td>NaN</td>\n",
       "      <td>NaN</td>\n",
       "      <td>NaN</td>\n",
       "      <td>NaN</td>\n",
       "      <td>NaN</td>\n",
       "      <td>NaN</td>\n",
       "    </tr>\n",
       "    <tr>\n",
       "      <th>64458</th>\n",
       "      <td>64898</td>\n",
       "      <td>NaN</td>\n",
       "      <td>Yes</td>\n",
       "      <td>NaN</td>\n",
       "      <td>NaN</td>\n",
       "      <td>NaN</td>\n",
       "      <td>NaN</td>\n",
       "      <td>NaN</td>\n",
       "      <td>Viet Nam</td>\n",
       "      <td>NaN</td>\n",
       "      <td>...</td>\n",
       "      <td>NaN</td>\n",
       "      <td>NaN</td>\n",
       "      <td>NaN</td>\n",
       "      <td>NaN</td>\n",
       "      <td>NaN</td>\n",
       "      <td>NaN</td>\n",
       "      <td>NaN</td>\n",
       "      <td>NaN</td>\n",
       "      <td>NaN</td>\n",
       "      <td>NaN</td>\n",
       "    </tr>\n",
       "    <tr>\n",
       "      <th>64459</th>\n",
       "      <td>64925</td>\n",
       "      <td>NaN</td>\n",
       "      <td>Yes</td>\n",
       "      <td>NaN</td>\n",
       "      <td>NaN</td>\n",
       "      <td>NaN</td>\n",
       "      <td>NaN</td>\n",
       "      <td>NaN</td>\n",
       "      <td>Poland</td>\n",
       "      <td>NaN</td>\n",
       "      <td>...</td>\n",
       "      <td>NaN</td>\n",
       "      <td>NaN</td>\n",
       "      <td>NaN</td>\n",
       "      <td>NaN</td>\n",
       "      <td>Angular;Angular.js;React.js</td>\n",
       "      <td>NaN</td>\n",
       "      <td>NaN</td>\n",
       "      <td>NaN</td>\n",
       "      <td>NaN</td>\n",
       "      <td>NaN</td>\n",
       "    </tr>\n",
       "    <tr>\n",
       "      <th>64460</th>\n",
       "      <td>65112</td>\n",
       "      <td>NaN</td>\n",
       "      <td>Yes</td>\n",
       "      <td>NaN</td>\n",
       "      <td>NaN</td>\n",
       "      <td>NaN</td>\n",
       "      <td>NaN</td>\n",
       "      <td>NaN</td>\n",
       "      <td>Spain</td>\n",
       "      <td>NaN</td>\n",
       "      <td>...</td>\n",
       "      <td>NaN</td>\n",
       "      <td>NaN</td>\n",
       "      <td>NaN</td>\n",
       "      <td>Computer science, computer engineering, or sof...</td>\n",
       "      <td>ASP.NET Core;jQuery</td>\n",
       "      <td>Angular;Angular.js;ASP.NET Core;jQuery</td>\n",
       "      <td>NaN</td>\n",
       "      <td>NaN</td>\n",
       "      <td>NaN</td>\n",
       "      <td>NaN</td>\n",
       "    </tr>\n",
       "  </tbody>\n",
       "</table>\n",
       "<p>64461 rows × 61 columns</p>\n",
       "</div>"
      ],
      "text/plain": [
       "       Respondent                                         MainBranch Hobbyist  \\\n",
       "0               1                     I am a developer by profession      Yes   \n",
       "1               2                     I am a developer by profession       No   \n",
       "2               3                        I code primarily as a hobby      Yes   \n",
       "3               4                     I am a developer by profession      Yes   \n",
       "4               5  I used to be a developer by profession, but no...      Yes   \n",
       "...           ...                                                ...      ...   \n",
       "64456       64858                                                NaN      Yes   \n",
       "64457       64867                                                NaN      Yes   \n",
       "64458       64898                                                NaN      Yes   \n",
       "64459       64925                                                NaN      Yes   \n",
       "64460       65112                                                NaN      Yes   \n",
       "\n",
       "        Age Age1stCode CompFreq  CompTotal  ConvertedComp             Country  \\\n",
       "0       NaN         13  Monthly        NaN            NaN             Germany   \n",
       "1       NaN         19      NaN        NaN            NaN      United Kingdom   \n",
       "2       NaN         15      NaN        NaN            NaN  Russian Federation   \n",
       "3      25.0         18      NaN        NaN            NaN             Albania   \n",
       "4      31.0         16      NaN        NaN            NaN       United States   \n",
       "...     ...        ...      ...        ...            ...                 ...   \n",
       "64456   NaN         16      NaN        NaN            NaN       United States   \n",
       "64457   NaN        NaN      NaN        NaN            NaN             Morocco   \n",
       "64458   NaN        NaN      NaN        NaN            NaN            Viet Nam   \n",
       "64459   NaN        NaN      NaN        NaN            NaN              Poland   \n",
       "64460   NaN        NaN      NaN        NaN            NaN               Spain   \n",
       "\n",
       "         CurrencyDesc  ...                  SurveyEase           SurveyLength  \\\n",
       "0       European Euro  ...  Neither easy nor difficult  Appropriate in length   \n",
       "1      Pound sterling  ...                         NaN                    NaN   \n",
       "2                 NaN  ...  Neither easy nor difficult  Appropriate in length   \n",
       "3        Albanian lek  ...                         NaN                    NaN   \n",
       "4                 NaN  ...                        Easy              Too short   \n",
       "...               ...  ...                         ...                    ...   \n",
       "64456             NaN  ...                         NaN                    NaN   \n",
       "64457             NaN  ...                         NaN                    NaN   \n",
       "64458             NaN  ...                         NaN                    NaN   \n",
       "64459             NaN  ...                         NaN                    NaN   \n",
       "64460             NaN  ...                         NaN                    NaN   \n",
       "\n",
       "      Trans                                     UndergradMajor  \\\n",
       "0        No  Computer science, computer engineering, or sof...   \n",
       "1       NaN  Computer science, computer engineering, or sof...   \n",
       "2       NaN                                                NaN   \n",
       "3        No  Computer science, computer engineering, or sof...   \n",
       "4        No  Computer science, computer engineering, or sof...   \n",
       "...     ...                                                ...   \n",
       "64456   NaN  Computer science, computer engineering, or sof...   \n",
       "64457   NaN                                                NaN   \n",
       "64458   NaN                                                NaN   \n",
       "64459   NaN                                                NaN   \n",
       "64460   NaN  Computer science, computer engineering, or sof...   \n",
       "\n",
       "            WebframeDesireNextYear                      WebframeWorkedWith  \\\n",
       "0                     ASP.NET Core                    ASP.NET;ASP.NET Core   \n",
       "1                              NaN                                     NaN   \n",
       "2                              NaN                                     NaN   \n",
       "3                              NaN                                     NaN   \n",
       "4             Django;Ruby on Rails                           Ruby on Rails   \n",
       "...                            ...                                     ...   \n",
       "64456                          NaN                                     NaN   \n",
       "64457                          NaN                                     NaN   \n",
       "64458                          NaN                                     NaN   \n",
       "64459  Angular;Angular.js;React.js                                     NaN   \n",
       "64460          ASP.NET Core;jQuery  Angular;Angular.js;ASP.NET Core;jQuery   \n",
       "\n",
       "                                  WelcomeChange WorkWeekHrs YearsCode  \\\n",
       "0       Just as welcome now as I felt last year        50.0        36   \n",
       "1      Somewhat more welcome now than last year         NaN         7   \n",
       "2      Somewhat more welcome now than last year         NaN         4   \n",
       "3      Somewhat less welcome now than last year        40.0         7   \n",
       "4       Just as welcome now as I felt last year         NaN        15   \n",
       "...                                         ...         ...       ...   \n",
       "64456                                       NaN         NaN        10   \n",
       "64457                                       NaN         NaN       NaN   \n",
       "64458                                       NaN         NaN       NaN   \n",
       "64459                                       NaN         NaN       NaN   \n",
       "64460                                       NaN         NaN       NaN   \n",
       "\n",
       "           YearsCodePro  \n",
       "0                    27  \n",
       "1                     4  \n",
       "2                   NaN  \n",
       "3                     4  \n",
       "4                     8  \n",
       "...                 ...  \n",
       "64456  Less than 1 year  \n",
       "64457               NaN  \n",
       "64458               NaN  \n",
       "64459               NaN  \n",
       "64460               NaN  \n",
       "\n",
       "[64461 rows x 61 columns]"
      ]
     },
     "execution_count": 7,
     "metadata": {},
     "output_type": "execute_result"
    }
   ],
   "source": [
    "survey"
   ]
  },
  {
   "cell_type": "markdown",
   "id": "23266dc1",
   "metadata": {},
   "source": [
    "The dataset constain 64000 rows and 61 columns.\n",
    "The dataset constain 64000 response and 61 questions.\n",
    "### Information about dataset of column"
   ]
  },
  {
   "cell_type": "code",
   "execution_count": 8,
   "id": "8201a4b1",
   "metadata": {},
   "outputs": [
    {
     "data": {
      "text/plain": [
       "Index(['Respondent', 'MainBranch', 'Hobbyist', 'Age', 'Age1stCode', 'CompFreq',\n",
       "       'CompTotal', 'ConvertedComp', 'Country', 'CurrencyDesc',\n",
       "       'CurrencySymbol', 'DatabaseDesireNextYear', 'DatabaseWorkedWith',\n",
       "       'DevType', 'EdLevel', 'Employment', 'Ethnicity', 'Gender', 'JobFactors',\n",
       "       'JobSat', 'JobSeek', 'LanguageDesireNextYear', 'LanguageWorkedWith',\n",
       "       'MiscTechDesireNextYear', 'MiscTechWorkedWith',\n",
       "       'NEWCollabToolsDesireNextYear', 'NEWCollabToolsWorkedWith', 'NEWDevOps',\n",
       "       'NEWDevOpsImpt', 'NEWEdImpt', 'NEWJobHunt', 'NEWJobHuntResearch',\n",
       "       'NEWLearn', 'NEWOffTopic', 'NEWOnboardGood', 'NEWOtherComms',\n",
       "       'NEWOvertime', 'NEWPurchaseResearch', 'NEWPurpleLink', 'NEWSOSites',\n",
       "       'NEWStuck', 'OpSys', 'OrgSize', 'PlatformDesireNextYear',\n",
       "       'PlatformWorkedWith', 'PurchaseWhat', 'Sexuality', 'SOAccount',\n",
       "       'SOComm', 'SOPartFreq', 'SOVisitFreq', 'SurveyEase', 'SurveyLength',\n",
       "       'Trans', 'UndergradMajor', 'WebframeDesireNextYear',\n",
       "       'WebframeWorkedWith', 'WelcomeChange', 'WorkWeekHrs', 'YearsCode',\n",
       "       'YearsCodePro'],\n",
       "      dtype='object')"
      ]
     },
     "execution_count": 8,
     "metadata": {},
     "output_type": "execute_result"
    }
   ],
   "source": [
    "survey.columns"
   ]
  },
  {
   "cell_type": "markdown",
   "id": "067e444e",
   "metadata": {},
   "source": [
    "#### Its not easily to look as in row ways. We can refer to the schema file to see the full text of each question (full form of question). The schema file contains only two columns: Column and QuestionText. We can load it as Pandas Series with Column as the index and the QuestionText as the value."
   ]
  },
  {
   "cell_type": "code",
   "execution_count": 9,
   "id": "b882f832",
   "metadata": {},
   "outputs": [
    {
     "data": {
      "text/plain": [
       "Column\n",
       "Respondent            Randomized respondent ID number (not in order ...\n",
       "MainBranch            Which of the following options best describes ...\n",
       "Hobbyist                                        Do you code as a hobby?\n",
       "Age                   What is your age (in years)? If you prefer not...\n",
       "Age1stCode            At what age did you write your first line of c...\n",
       "                                            ...                        \n",
       "WebframeWorkedWith    Which web frameworks have you done extensive d...\n",
       "WelcomeChange         Compared to last year, how welcome do you feel...\n",
       "WorkWeekHrs           On average, how many hours per week do you wor...\n",
       "YearsCode             Including any education, how many years have y...\n",
       "YearsCodePro          NOT including education, how many years have y...\n",
       "Name: QuestionText, Length: 61, dtype: object"
      ]
     },
     "execution_count": 9,
     "metadata": {},
     "output_type": "execute_result"
    }
   ],
   "source": [
    "schema_pd = 'stackoverflow-developer-survey-2020/survey_results_schema.csv'\n",
    "schema = pd.read_csv(schema_pd, index_col='Column').QuestionText\n",
    "schema"
   ]
  },
  {
   "cell_type": "code",
   "execution_count": 10,
   "id": "699002b8",
   "metadata": {},
   "outputs": [
    {
     "data": {
      "text/plain": [
       "'What is your age (in years)? If you prefer not to answer, you may leave this question blank.'"
      ]
     },
     "execution_count": 10,
     "metadata": {},
     "output_type": "execute_result"
    }
   ],
   "source": [
    "schema['Age']"
   ]
  },
  {
   "cell_type": "code",
   "execution_count": 11,
   "id": "9584fd72",
   "metadata": {},
   "outputs": [
    {
     "data": {
      "text/plain": [
       "'At what age did you write your first line of code or program? (e.g., webpage, Hello World, Scratch project)'"
      ]
     },
     "execution_count": 11,
     "metadata": {},
     "output_type": "execute_result"
    }
   ],
   "source": [
    "schema['Age1stCode']"
   ]
  },
  {
   "cell_type": "code",
   "execution_count": 12,
   "id": "60289b5f",
   "metadata": {},
   "outputs": [
    {
     "data": {
      "text/plain": [
       "'On average, how many hours per week do you work? Please enter a whole number in the box.'"
      ]
     },
     "execution_count": 12,
     "metadata": {},
     "output_type": "execute_result"
    }
   ],
   "source": [
    "schema['Hobbyist']\n",
    "schema['WorkWeekHrs']"
   ]
  },
  {
   "cell_type": "markdown",
   "id": "bd12ff23",
   "metadata": {},
   "source": [
    "#### Save and upload your notebook¶"
   ]
  },
  {
   "cell_type": "code",
   "execution_count": 13,
   "id": "5be1ba25",
   "metadata": {},
   "outputs": [],
   "source": [
    "# Select a project name\n",
    "project='python-eda-stackoverflow-survey'\n",
    "# Install the Jovian library\n",
    "!pip install jovian --upgrade --quiet"
   ]
  },
  {
   "cell_type": "code",
   "execution_count": 14,
   "id": "cd561d00",
   "metadata": {},
   "outputs": [
    {
     "data": {
      "application/javascript": [
       "window.require && require([\"base/js/namespace\"],function(Jupyter){Jupyter.notebook.save_checkpoint()})"
      ],
      "text/plain": [
       "<IPython.core.display.Javascript object>"
      ]
     },
     "metadata": {},
     "output_type": "display_data"
    },
    {
     "name": "stdout",
     "output_type": "stream",
     "text": [
      "[jovian] Updating notebook \"shreyasky/python-eda-stackoverflow-survey\" on https://jovian.com\u001b[0m\n",
      "[jovian] Committed successfully! https://jovian.com/shreyasky/python-eda-stackoverflow-survey\u001b[0m\n"
     ]
    },
    {
     "data": {
      "text/plain": [
       "'https://jovian.com/shreyasky/python-eda-stackoverflow-survey'"
      ]
     },
     "execution_count": 14,
     "metadata": {},
     "output_type": "execute_result"
    }
   ],
   "source": [
    "import jovian\n",
    "jovian.commit(project=project)"
   ]
  },
  {
   "cell_type": "markdown",
   "id": "1060d48e",
   "metadata": {},
   "source": [
    "## Data Preparation & Cleaning¶"
   ]
  },
  {
   "cell_type": "markdown",
   "id": "63c9d4be",
   "metadata": {},
   "source": [
    "Let's select a subset of columns with the relevant data for our analysis."
   ]
  },
  {
   "cell_type": "code",
   "execution_count": 17,
   "id": "c2355e50",
   "metadata": {},
   "outputs": [],
   "source": [
    "selected_columns = [\n",
    "    # Demographics\n",
    "    'Country',\n",
    "    'Age',\n",
    "    'Gender',\n",
    "    'EdLevel',\n",
    "    'UndergradMajor',\n",
    "    # Programming experience\n",
    "    'Hobbyist',\n",
    "    'Age1stCode',\n",
    "    'YearsCode',\n",
    "    'YearsCodePro',\n",
    "    'LanguageWorkedWith',\n",
    "    'LanguageDesireNextYear',\n",
    "    'NEWLearn',\n",
    "    'NEWStuck',\n",
    "    # Employment\n",
    "    'Employment',\n",
    "    'DevType',\n",
    "    'WorkWeekHrs',\n",
    "    'JobSat',\n",
    "    'JobFactors',\n",
    "    'NEWOvertime',\n",
    "    'NEWEdImpt']"
   ]
  },
  {
   "cell_type": "code",
   "execution_count": 18,
   "id": "161b1f66",
   "metadata": {},
   "outputs": [
    {
     "data": {
      "text/plain": [
       "20"
      ]
     },
     "execution_count": 18,
     "metadata": {},
     "output_type": "execute_result"
    }
   ],
   "source": [
    "len(selected_columns)"
   ]
  },
  {
   "cell_type": "markdown",
   "id": "80f12e4a",
   "metadata": {},
   "source": [
    "Let's extract a copy of the data from these columns into a new data frame survey. We can continue to modify further without affecting the original data frame."
   ]
  },
  {
   "cell_type": "code",
   "execution_count": 19,
   "id": "c8203a06",
   "metadata": {},
   "outputs": [],
   "source": [
    "new_survey = survey[selected_columns].copy()"
   ]
  },
  {
   "cell_type": "code",
   "execution_count": 20,
   "id": "15028118",
   "metadata": {},
   "outputs": [],
   "source": [
    "new_scheme = schema[selected_columns]"
   ]
  },
  {
   "cell_type": "code",
   "execution_count": 21,
   "id": "aad52de9",
   "metadata": {},
   "outputs": [
    {
     "data": {
      "text/plain": [
       "(64461, 20)"
      ]
     },
     "execution_count": 21,
     "metadata": {},
     "output_type": "execute_result"
    }
   ],
   "source": [
    "new_survey.shape"
   ]
  },
  {
   "cell_type": "code",
   "execution_count": 22,
   "id": "c8955274",
   "metadata": {},
   "outputs": [
    {
     "name": "stdout",
     "output_type": "stream",
     "text": [
      "<class 'pandas.core.frame.DataFrame'>\n",
      "RangeIndex: 64461 entries, 0 to 64460\n",
      "Data columns (total 20 columns):\n",
      " #   Column                  Non-Null Count  Dtype  \n",
      "---  ------                  --------------  -----  \n",
      " 0   Country                 64072 non-null  object \n",
      " 1   Age                     45446 non-null  float64\n",
      " 2   Gender                  50557 non-null  object \n",
      " 3   EdLevel                 57431 non-null  object \n",
      " 4   UndergradMajor          50995 non-null  object \n",
      " 5   Hobbyist                64416 non-null  object \n",
      " 6   Age1stCode              57900 non-null  object \n",
      " 7   YearsCode               57684 non-null  object \n",
      " 8   YearsCodePro            46349 non-null  object \n",
      " 9   LanguageWorkedWith      57378 non-null  object \n",
      " 10  LanguageDesireNextYear  54113 non-null  object \n",
      " 11  NEWLearn                56156 non-null  object \n",
      " 12  NEWStuck                54983 non-null  object \n",
      " 13  Employment              63854 non-null  object \n",
      " 14  DevType                 49370 non-null  object \n",
      " 15  WorkWeekHrs             41151 non-null  float64\n",
      " 16  JobSat                  45194 non-null  object \n",
      " 17  JobFactors              49349 non-null  object \n",
      " 18  NEWOvertime             43231 non-null  object \n",
      " 19  NEWEdImpt               48465 non-null  object \n",
      "dtypes: float64(2), object(18)\n",
      "memory usage: 9.8+ MB\n"
     ]
    }
   ],
   "source": [
    "new_survey.info()"
   ]
  },
  {
   "cell_type": "markdown",
   "id": "3778d2a9",
   "metadata": {},
   "source": [
    "Using objects allows for flexibility, as elements within the array or DataFrame can be of different types.\n",
    "For example, you could have a mix of integers, strings, lists, or other objects within the same array or DataFrame."
   ]
  },
  {
   "cell_type": "markdown",
   "id": "3016ba7a",
   "metadata": {},
   "source": [
    "Only two of the columns were detected as numeric columns (Age and WorkWeekHrs), \n",
    "even though a few other columns have mostly numeric values. To make our analysis easier, \n",
    "let's convert some other columns into numeric data types while ignoring any non-numeric value.\n",
    "The non-numeric are converted to NaN."
   ]
  },
  {
   "cell_type": "code",
   "execution_count": 23,
   "id": "32fed90a",
   "metadata": {},
   "outputs": [],
   "source": [
    "new_survey['Age1stCode']=pd.to_numeric(new_survey.Age1stCode,errors='coerce')\n",
    "new_survey['YearsCode']=pd.to_numeric(new_survey.YearsCode,errors='coerce')\n",
    "new_survey['YearsCodePro']=pd.to_numeric(new_survey.YearsCodePro,errors='coerce')"
   ]
  },
  {
   "cell_type": "code",
   "execution_count": 24,
   "id": "cf07504e",
   "metadata": {},
   "outputs": [
    {
     "data": {
      "text/html": [
       "<div>\n",
       "<style scoped>\n",
       "    .dataframe tbody tr th:only-of-type {\n",
       "        vertical-align: middle;\n",
       "    }\n",
       "\n",
       "    .dataframe tbody tr th {\n",
       "        vertical-align: top;\n",
       "    }\n",
       "\n",
       "    .dataframe thead th {\n",
       "        text-align: right;\n",
       "    }\n",
       "</style>\n",
       "<table border=\"1\" class=\"dataframe\">\n",
       "  <thead>\n",
       "    <tr style=\"text-align: right;\">\n",
       "      <th></th>\n",
       "      <th>Age</th>\n",
       "      <th>Age1stCode</th>\n",
       "      <th>YearsCode</th>\n",
       "      <th>YearsCodePro</th>\n",
       "      <th>WorkWeekHrs</th>\n",
       "    </tr>\n",
       "  </thead>\n",
       "  <tbody>\n",
       "    <tr>\n",
       "      <th>count</th>\n",
       "      <td>45446.000000</td>\n",
       "      <td>57473.000000</td>\n",
       "      <td>56784.000000</td>\n",
       "      <td>44133.000000</td>\n",
       "      <td>41151.000000</td>\n",
       "    </tr>\n",
       "    <tr>\n",
       "      <th>mean</th>\n",
       "      <td>30.834111</td>\n",
       "      <td>15.476572</td>\n",
       "      <td>12.782051</td>\n",
       "      <td>8.869667</td>\n",
       "      <td>40.782174</td>\n",
       "    </tr>\n",
       "    <tr>\n",
       "      <th>std</th>\n",
       "      <td>9.585392</td>\n",
       "      <td>5.114081</td>\n",
       "      <td>9.490657</td>\n",
       "      <td>7.759961</td>\n",
       "      <td>17.816383</td>\n",
       "    </tr>\n",
       "    <tr>\n",
       "      <th>min</th>\n",
       "      <td>1.000000</td>\n",
       "      <td>5.000000</td>\n",
       "      <td>1.000000</td>\n",
       "      <td>1.000000</td>\n",
       "      <td>1.000000</td>\n",
       "    </tr>\n",
       "    <tr>\n",
       "      <th>25%</th>\n",
       "      <td>24.000000</td>\n",
       "      <td>12.000000</td>\n",
       "      <td>6.000000</td>\n",
       "      <td>3.000000</td>\n",
       "      <td>40.000000</td>\n",
       "    </tr>\n",
       "    <tr>\n",
       "      <th>50%</th>\n",
       "      <td>29.000000</td>\n",
       "      <td>15.000000</td>\n",
       "      <td>10.000000</td>\n",
       "      <td>6.000000</td>\n",
       "      <td>40.000000</td>\n",
       "    </tr>\n",
       "    <tr>\n",
       "      <th>75%</th>\n",
       "      <td>35.000000</td>\n",
       "      <td>18.000000</td>\n",
       "      <td>17.000000</td>\n",
       "      <td>12.000000</td>\n",
       "      <td>44.000000</td>\n",
       "    </tr>\n",
       "    <tr>\n",
       "      <th>max</th>\n",
       "      <td>279.000000</td>\n",
       "      <td>85.000000</td>\n",
       "      <td>50.000000</td>\n",
       "      <td>50.000000</td>\n",
       "      <td>475.000000</td>\n",
       "    </tr>\n",
       "  </tbody>\n",
       "</table>\n",
       "</div>"
      ],
      "text/plain": [
       "                Age    Age1stCode     YearsCode  YearsCodePro   WorkWeekHrs\n",
       "count  45446.000000  57473.000000  56784.000000  44133.000000  41151.000000\n",
       "mean      30.834111     15.476572     12.782051      8.869667     40.782174\n",
       "std        9.585392      5.114081      9.490657      7.759961     17.816383\n",
       "min        1.000000      5.000000      1.000000      1.000000      1.000000\n",
       "25%       24.000000     12.000000      6.000000      3.000000     40.000000\n",
       "50%       29.000000     15.000000     10.000000      6.000000     40.000000\n",
       "75%       35.000000     18.000000     17.000000     12.000000     44.000000\n",
       "max      279.000000     85.000000     50.000000     50.000000    475.000000"
      ]
     },
     "execution_count": 24,
     "metadata": {},
     "output_type": "execute_result"
    }
   ],
   "source": [
    "new_survey.describe()"
   ]
  },
  {
   "cell_type": "markdown",
   "id": "5e924504",
   "metadata": {},
   "source": [
    "Now lets delete some column which affets that whole data like age and workweekhrs are not correct data "
   ]
  },
  {
   "cell_type": "code",
   "execution_count": 25,
   "id": "576b0b0a",
   "metadata": {},
   "outputs": [],
   "source": [
    "\n",
    "new_survey.drop(new_survey[new_survey.Age <10].index,inplace=True)\n",
    "new_survey.drop(new_survey[new_survey.Age >100].index,inplace=True)"
   ]
  },
  {
   "cell_type": "code",
   "execution_count": 26,
   "id": "4bd759d5",
   "metadata": {},
   "outputs": [
    {
     "data": {
      "text/html": [
       "<div>\n",
       "<style scoped>\n",
       "    .dataframe tbody tr th:only-of-type {\n",
       "        vertical-align: middle;\n",
       "    }\n",
       "\n",
       "    .dataframe tbody tr th {\n",
       "        vertical-align: top;\n",
       "    }\n",
       "\n",
       "    .dataframe thead th {\n",
       "        text-align: right;\n",
       "    }\n",
       "</style>\n",
       "<table border=\"1\" class=\"dataframe\">\n",
       "  <thead>\n",
       "    <tr style=\"text-align: right;\">\n",
       "      <th></th>\n",
       "      <th>Country</th>\n",
       "      <th>Age</th>\n",
       "      <th>Gender</th>\n",
       "      <th>EdLevel</th>\n",
       "      <th>UndergradMajor</th>\n",
       "      <th>Hobbyist</th>\n",
       "      <th>Age1stCode</th>\n",
       "      <th>YearsCode</th>\n",
       "      <th>YearsCodePro</th>\n",
       "      <th>LanguageWorkedWith</th>\n",
       "      <th>LanguageDesireNextYear</th>\n",
       "      <th>NEWLearn</th>\n",
       "      <th>NEWStuck</th>\n",
       "      <th>Employment</th>\n",
       "      <th>DevType</th>\n",
       "      <th>WorkWeekHrs</th>\n",
       "      <th>JobSat</th>\n",
       "      <th>JobFactors</th>\n",
       "      <th>NEWOvertime</th>\n",
       "      <th>NEWEdImpt</th>\n",
       "    </tr>\n",
       "  </thead>\n",
       "  <tbody>\n",
       "    <tr>\n",
       "      <th>0</th>\n",
       "      <td>Germany</td>\n",
       "      <td>NaN</td>\n",
       "      <td>Man</td>\n",
       "      <td>Master’s degree (M.A., M.S., M.Eng., MBA, etc.)</td>\n",
       "      <td>Computer science, computer engineering, or sof...</td>\n",
       "      <td>Yes</td>\n",
       "      <td>13.0</td>\n",
       "      <td>36.0</td>\n",
       "      <td>27.0</td>\n",
       "      <td>C#;HTML/CSS;JavaScript</td>\n",
       "      <td>C#;HTML/CSS;JavaScript</td>\n",
       "      <td>Once a year</td>\n",
       "      <td>Visit Stack Overflow;Go for a walk or other ph...</td>\n",
       "      <td>Independent contractor, freelancer, or self-em...</td>\n",
       "      <td>Developer, desktop or enterprise applications;...</td>\n",
       "      <td>50.0</td>\n",
       "      <td>Slightly satisfied</td>\n",
       "      <td>Languages, frameworks, and other technologies ...</td>\n",
       "      <td>Often: 1-2 days per week or more</td>\n",
       "      <td>Fairly important</td>\n",
       "    </tr>\n",
       "    <tr>\n",
       "      <th>1</th>\n",
       "      <td>United Kingdom</td>\n",
       "      <td>NaN</td>\n",
       "      <td>NaN</td>\n",
       "      <td>Bachelor’s degree (B.A., B.S., B.Eng., etc.)</td>\n",
       "      <td>Computer science, computer engineering, or sof...</td>\n",
       "      <td>No</td>\n",
       "      <td>19.0</td>\n",
       "      <td>7.0</td>\n",
       "      <td>4.0</td>\n",
       "      <td>JavaScript;Swift</td>\n",
       "      <td>Python;Swift</td>\n",
       "      <td>Once a year</td>\n",
       "      <td>Visit Stack Overflow;Go for a walk or other ph...</td>\n",
       "      <td>Employed full-time</td>\n",
       "      <td>Developer, full-stack;Developer, mobile</td>\n",
       "      <td>NaN</td>\n",
       "      <td>Very dissatisfied</td>\n",
       "      <td>NaN</td>\n",
       "      <td>NaN</td>\n",
       "      <td>Fairly important</td>\n",
       "    </tr>\n",
       "    <tr>\n",
       "      <th>2</th>\n",
       "      <td>Russian Federation</td>\n",
       "      <td>NaN</td>\n",
       "      <td>NaN</td>\n",
       "      <td>NaN</td>\n",
       "      <td>NaN</td>\n",
       "      <td>Yes</td>\n",
       "      <td>15.0</td>\n",
       "      <td>4.0</td>\n",
       "      <td>NaN</td>\n",
       "      <td>Objective-C;Python;Swift</td>\n",
       "      <td>Objective-C;Python;Swift</td>\n",
       "      <td>Once a decade</td>\n",
       "      <td>NaN</td>\n",
       "      <td>NaN</td>\n",
       "      <td>NaN</td>\n",
       "      <td>NaN</td>\n",
       "      <td>NaN</td>\n",
       "      <td>NaN</td>\n",
       "      <td>NaN</td>\n",
       "      <td>NaN</td>\n",
       "    </tr>\n",
       "    <tr>\n",
       "      <th>3</th>\n",
       "      <td>Albania</td>\n",
       "      <td>25.0</td>\n",
       "      <td>Man</td>\n",
       "      <td>Master’s degree (M.A., M.S., M.Eng., MBA, etc.)</td>\n",
       "      <td>Computer science, computer engineering, or sof...</td>\n",
       "      <td>Yes</td>\n",
       "      <td>18.0</td>\n",
       "      <td>7.0</td>\n",
       "      <td>4.0</td>\n",
       "      <td>NaN</td>\n",
       "      <td>NaN</td>\n",
       "      <td>Once a year</td>\n",
       "      <td>NaN</td>\n",
       "      <td>NaN</td>\n",
       "      <td>NaN</td>\n",
       "      <td>40.0</td>\n",
       "      <td>Slightly dissatisfied</td>\n",
       "      <td>Flex time or a flexible schedule;Office enviro...</td>\n",
       "      <td>Occasionally: 1-2 days per quarter but less th...</td>\n",
       "      <td>Not at all important/not necessary</td>\n",
       "    </tr>\n",
       "    <tr>\n",
       "      <th>4</th>\n",
       "      <td>United States</td>\n",
       "      <td>31.0</td>\n",
       "      <td>Man</td>\n",
       "      <td>Bachelor’s degree (B.A., B.S., B.Eng., etc.)</td>\n",
       "      <td>Computer science, computer engineering, or sof...</td>\n",
       "      <td>Yes</td>\n",
       "      <td>16.0</td>\n",
       "      <td>15.0</td>\n",
       "      <td>8.0</td>\n",
       "      <td>HTML/CSS;Ruby;SQL</td>\n",
       "      <td>Java;Ruby;Scala</td>\n",
       "      <td>Once a year</td>\n",
       "      <td>Call a coworker or friend;Visit Stack Overflow...</td>\n",
       "      <td>Employed full-time</td>\n",
       "      <td>NaN</td>\n",
       "      <td>NaN</td>\n",
       "      <td>NaN</td>\n",
       "      <td>NaN</td>\n",
       "      <td>NaN</td>\n",
       "      <td>Very important</td>\n",
       "    </tr>\n",
       "    <tr>\n",
       "      <th>...</th>\n",
       "      <td>...</td>\n",
       "      <td>...</td>\n",
       "      <td>...</td>\n",
       "      <td>...</td>\n",
       "      <td>...</td>\n",
       "      <td>...</td>\n",
       "      <td>...</td>\n",
       "      <td>...</td>\n",
       "      <td>...</td>\n",
       "      <td>...</td>\n",
       "      <td>...</td>\n",
       "      <td>...</td>\n",
       "      <td>...</td>\n",
       "      <td>...</td>\n",
       "      <td>...</td>\n",
       "      <td>...</td>\n",
       "      <td>...</td>\n",
       "      <td>...</td>\n",
       "      <td>...</td>\n",
       "      <td>...</td>\n",
       "    </tr>\n",
       "    <tr>\n",
       "      <th>64456</th>\n",
       "      <td>United States</td>\n",
       "      <td>NaN</td>\n",
       "      <td>NaN</td>\n",
       "      <td>Master’s degree (M.A., M.S., M.Eng., MBA, etc.)</td>\n",
       "      <td>Computer science, computer engineering, or sof...</td>\n",
       "      <td>Yes</td>\n",
       "      <td>16.0</td>\n",
       "      <td>10.0</td>\n",
       "      <td>NaN</td>\n",
       "      <td>NaN</td>\n",
       "      <td>NaN</td>\n",
       "      <td>Once a decade</td>\n",
       "      <td>Call a coworker or friend</td>\n",
       "      <td>Employed full-time</td>\n",
       "      <td>Senior executive/VP</td>\n",
       "      <td>NaN</td>\n",
       "      <td>NaN</td>\n",
       "      <td>NaN</td>\n",
       "      <td>NaN</td>\n",
       "      <td>Very important</td>\n",
       "    </tr>\n",
       "    <tr>\n",
       "      <th>64457</th>\n",
       "      <td>Morocco</td>\n",
       "      <td>NaN</td>\n",
       "      <td>NaN</td>\n",
       "      <td>NaN</td>\n",
       "      <td>NaN</td>\n",
       "      <td>Yes</td>\n",
       "      <td>NaN</td>\n",
       "      <td>NaN</td>\n",
       "      <td>NaN</td>\n",
       "      <td>Assembly;Bash/Shell/PowerShell;C;C#;C++;Dart;G...</td>\n",
       "      <td>Assembly;Bash/Shell/PowerShell;C;C#;C++;Dart;G...</td>\n",
       "      <td>NaN</td>\n",
       "      <td>NaN</td>\n",
       "      <td>Employed full-time</td>\n",
       "      <td>NaN</td>\n",
       "      <td>NaN</td>\n",
       "      <td>NaN</td>\n",
       "      <td>NaN</td>\n",
       "      <td>NaN</td>\n",
       "      <td>NaN</td>\n",
       "    </tr>\n",
       "    <tr>\n",
       "      <th>64458</th>\n",
       "      <td>Viet Nam</td>\n",
       "      <td>NaN</td>\n",
       "      <td>NaN</td>\n",
       "      <td>Primary/elementary school</td>\n",
       "      <td>NaN</td>\n",
       "      <td>Yes</td>\n",
       "      <td>NaN</td>\n",
       "      <td>NaN</td>\n",
       "      <td>NaN</td>\n",
       "      <td>NaN</td>\n",
       "      <td>NaN</td>\n",
       "      <td>NaN</td>\n",
       "      <td>NaN</td>\n",
       "      <td>NaN</td>\n",
       "      <td>NaN</td>\n",
       "      <td>NaN</td>\n",
       "      <td>NaN</td>\n",
       "      <td>NaN</td>\n",
       "      <td>NaN</td>\n",
       "      <td>NaN</td>\n",
       "    </tr>\n",
       "    <tr>\n",
       "      <th>64459</th>\n",
       "      <td>Poland</td>\n",
       "      <td>NaN</td>\n",
       "      <td>NaN</td>\n",
       "      <td>NaN</td>\n",
       "      <td>NaN</td>\n",
       "      <td>Yes</td>\n",
       "      <td>NaN</td>\n",
       "      <td>NaN</td>\n",
       "      <td>NaN</td>\n",
       "      <td>HTML/CSS</td>\n",
       "      <td>HTML/CSS;Java;JavaScript</td>\n",
       "      <td>Once a year</td>\n",
       "      <td>Call a coworker or friend;Visit Stack Overflow</td>\n",
       "      <td>Employed full-time</td>\n",
       "      <td>NaN</td>\n",
       "      <td>NaN</td>\n",
       "      <td>NaN</td>\n",
       "      <td>NaN</td>\n",
       "      <td>NaN</td>\n",
       "      <td>NaN</td>\n",
       "    </tr>\n",
       "    <tr>\n",
       "      <th>64460</th>\n",
       "      <td>Spain</td>\n",
       "      <td>NaN</td>\n",
       "      <td>NaN</td>\n",
       "      <td>Other doctoral degree (Ph.D., Ed.D., etc.)</td>\n",
       "      <td>Computer science, computer engineering, or sof...</td>\n",
       "      <td>Yes</td>\n",
       "      <td>NaN</td>\n",
       "      <td>NaN</td>\n",
       "      <td>NaN</td>\n",
       "      <td>C#;HTML/CSS;Java;JavaScript;SQL</td>\n",
       "      <td>C#;HTML/CSS;Java;JavaScript;SQL</td>\n",
       "      <td>Once a year</td>\n",
       "      <td>Meditate;Visit Stack Overflow;Go for a walk or...</td>\n",
       "      <td>Employed full-time</td>\n",
       "      <td>NaN</td>\n",
       "      <td>NaN</td>\n",
       "      <td>NaN</td>\n",
       "      <td>NaN</td>\n",
       "      <td>NaN</td>\n",
       "      <td>Critically important</td>\n",
       "    </tr>\n",
       "  </tbody>\n",
       "</table>\n",
       "<p>64451 rows × 20 columns</p>\n",
       "</div>"
      ],
      "text/plain": [
       "                  Country   Age Gender  \\\n",
       "0                 Germany   NaN    Man   \n",
       "1          United Kingdom   NaN    NaN   \n",
       "2      Russian Federation   NaN    NaN   \n",
       "3                 Albania  25.0    Man   \n",
       "4           United States  31.0    Man   \n",
       "...                   ...   ...    ...   \n",
       "64456       United States   NaN    NaN   \n",
       "64457             Morocco   NaN    NaN   \n",
       "64458            Viet Nam   NaN    NaN   \n",
       "64459              Poland   NaN    NaN   \n",
       "64460               Spain   NaN    NaN   \n",
       "\n",
       "                                               EdLevel  \\\n",
       "0      Master’s degree (M.A., M.S., M.Eng., MBA, etc.)   \n",
       "1         Bachelor’s degree (B.A., B.S., B.Eng., etc.)   \n",
       "2                                                  NaN   \n",
       "3      Master’s degree (M.A., M.S., M.Eng., MBA, etc.)   \n",
       "4         Bachelor’s degree (B.A., B.S., B.Eng., etc.)   \n",
       "...                                                ...   \n",
       "64456  Master’s degree (M.A., M.S., M.Eng., MBA, etc.)   \n",
       "64457                                              NaN   \n",
       "64458                        Primary/elementary school   \n",
       "64459                                              NaN   \n",
       "64460       Other doctoral degree (Ph.D., Ed.D., etc.)   \n",
       "\n",
       "                                          UndergradMajor Hobbyist  Age1stCode  \\\n",
       "0      Computer science, computer engineering, or sof...      Yes        13.0   \n",
       "1      Computer science, computer engineering, or sof...       No        19.0   \n",
       "2                                                    NaN      Yes        15.0   \n",
       "3      Computer science, computer engineering, or sof...      Yes        18.0   \n",
       "4      Computer science, computer engineering, or sof...      Yes        16.0   \n",
       "...                                                  ...      ...         ...   \n",
       "64456  Computer science, computer engineering, or sof...      Yes        16.0   \n",
       "64457                                                NaN      Yes         NaN   \n",
       "64458                                                NaN      Yes         NaN   \n",
       "64459                                                NaN      Yes         NaN   \n",
       "64460  Computer science, computer engineering, or sof...      Yes         NaN   \n",
       "\n",
       "       YearsCode  YearsCodePro  \\\n",
       "0           36.0          27.0   \n",
       "1            7.0           4.0   \n",
       "2            4.0           NaN   \n",
       "3            7.0           4.0   \n",
       "4           15.0           8.0   \n",
       "...          ...           ...   \n",
       "64456       10.0           NaN   \n",
       "64457        NaN           NaN   \n",
       "64458        NaN           NaN   \n",
       "64459        NaN           NaN   \n",
       "64460        NaN           NaN   \n",
       "\n",
       "                                      LanguageWorkedWith  \\\n",
       "0                                 C#;HTML/CSS;JavaScript   \n",
       "1                                       JavaScript;Swift   \n",
       "2                               Objective-C;Python;Swift   \n",
       "3                                                    NaN   \n",
       "4                                      HTML/CSS;Ruby;SQL   \n",
       "...                                                  ...   \n",
       "64456                                                NaN   \n",
       "64457  Assembly;Bash/Shell/PowerShell;C;C#;C++;Dart;G...   \n",
       "64458                                                NaN   \n",
       "64459                                           HTML/CSS   \n",
       "64460                    C#;HTML/CSS;Java;JavaScript;SQL   \n",
       "\n",
       "                                  LanguageDesireNextYear       NEWLearn  \\\n",
       "0                                 C#;HTML/CSS;JavaScript    Once a year   \n",
       "1                                           Python;Swift    Once a year   \n",
       "2                               Objective-C;Python;Swift  Once a decade   \n",
       "3                                                    NaN    Once a year   \n",
       "4                                        Java;Ruby;Scala    Once a year   \n",
       "...                                                  ...            ...   \n",
       "64456                                                NaN  Once a decade   \n",
       "64457  Assembly;Bash/Shell/PowerShell;C;C#;C++;Dart;G...            NaN   \n",
       "64458                                                NaN            NaN   \n",
       "64459                           HTML/CSS;Java;JavaScript    Once a year   \n",
       "64460                    C#;HTML/CSS;Java;JavaScript;SQL    Once a year   \n",
       "\n",
       "                                                NEWStuck  \\\n",
       "0      Visit Stack Overflow;Go for a walk or other ph...   \n",
       "1      Visit Stack Overflow;Go for a walk or other ph...   \n",
       "2                                                    NaN   \n",
       "3                                                    NaN   \n",
       "4      Call a coworker or friend;Visit Stack Overflow...   \n",
       "...                                                  ...   \n",
       "64456                          Call a coworker or friend   \n",
       "64457                                                NaN   \n",
       "64458                                                NaN   \n",
       "64459     Call a coworker or friend;Visit Stack Overflow   \n",
       "64460  Meditate;Visit Stack Overflow;Go for a walk or...   \n",
       "\n",
       "                                              Employment  \\\n",
       "0      Independent contractor, freelancer, or self-em...   \n",
       "1                                     Employed full-time   \n",
       "2                                                    NaN   \n",
       "3                                                    NaN   \n",
       "4                                     Employed full-time   \n",
       "...                                                  ...   \n",
       "64456                                 Employed full-time   \n",
       "64457                                 Employed full-time   \n",
       "64458                                                NaN   \n",
       "64459                                 Employed full-time   \n",
       "64460                                 Employed full-time   \n",
       "\n",
       "                                                 DevType  WorkWeekHrs  \\\n",
       "0      Developer, desktop or enterprise applications;...         50.0   \n",
       "1                Developer, full-stack;Developer, mobile          NaN   \n",
       "2                                                    NaN          NaN   \n",
       "3                                                    NaN         40.0   \n",
       "4                                                    NaN          NaN   \n",
       "...                                                  ...          ...   \n",
       "64456                                Senior executive/VP          NaN   \n",
       "64457                                                NaN          NaN   \n",
       "64458                                                NaN          NaN   \n",
       "64459                                                NaN          NaN   \n",
       "64460                                                NaN          NaN   \n",
       "\n",
       "                      JobSat  \\\n",
       "0         Slightly satisfied   \n",
       "1          Very dissatisfied   \n",
       "2                        NaN   \n",
       "3      Slightly dissatisfied   \n",
       "4                        NaN   \n",
       "...                      ...   \n",
       "64456                    NaN   \n",
       "64457                    NaN   \n",
       "64458                    NaN   \n",
       "64459                    NaN   \n",
       "64460                    NaN   \n",
       "\n",
       "                                              JobFactors  \\\n",
       "0      Languages, frameworks, and other technologies ...   \n",
       "1                                                    NaN   \n",
       "2                                                    NaN   \n",
       "3      Flex time or a flexible schedule;Office enviro...   \n",
       "4                                                    NaN   \n",
       "...                                                  ...   \n",
       "64456                                                NaN   \n",
       "64457                                                NaN   \n",
       "64458                                                NaN   \n",
       "64459                                                NaN   \n",
       "64460                                                NaN   \n",
       "\n",
       "                                             NEWOvertime  \\\n",
       "0                       Often: 1-2 days per week or more   \n",
       "1                                                    NaN   \n",
       "2                                                    NaN   \n",
       "3      Occasionally: 1-2 days per quarter but less th...   \n",
       "4                                                    NaN   \n",
       "...                                                  ...   \n",
       "64456                                                NaN   \n",
       "64457                                                NaN   \n",
       "64458                                                NaN   \n",
       "64459                                                NaN   \n",
       "64460                                                NaN   \n",
       "\n",
       "                                NEWEdImpt  \n",
       "0                        Fairly important  \n",
       "1                        Fairly important  \n",
       "2                                     NaN  \n",
       "3      Not at all important/not necessary  \n",
       "4                          Very important  \n",
       "...                                   ...  \n",
       "64456                      Very important  \n",
       "64457                                 NaN  \n",
       "64458                                 NaN  \n",
       "64459                                 NaN  \n",
       "64460                Critically important  \n",
       "\n",
       "[64451 rows x 20 columns]"
      ]
     },
     "execution_count": 26,
     "metadata": {},
     "output_type": "execute_result"
    }
   ],
   "source": [
    "new_survey"
   ]
  },
  {
   "cell_type": "code",
   "execution_count": 27,
   "id": "58376fcd",
   "metadata": {},
   "outputs": [],
   "source": [
    "new_survey.drop(new_survey[new_survey.WorkWeekHrs <100].index,inplace=True)"
   ]
  },
  {
   "cell_type": "code",
   "execution_count": 28,
   "id": "96bc0043",
   "metadata": {},
   "outputs": [
    {
     "data": {
      "text/plain": [
       "Man                                                            11637\n",
       "Woman                                                           1124\n",
       "Non-binary, genderqueer, or gender non-conforming                125\n",
       "Woman;Man                                                         44\n",
       "Woman;Non-binary, genderqueer, or gender non-conforming           33\n",
       "Man;Non-binary, genderqueer, or gender non-conforming             33\n",
       "Woman;Man;Non-binary, genderqueer, or gender non-conforming       14\n",
       "Name: Gender, dtype: int64"
      ]
     },
     "execution_count": 28,
     "metadata": {},
     "output_type": "execute_result"
    }
   ],
   "source": [
    "new_survey['Gender'].value_counts()"
   ]
  },
  {
   "cell_type": "code",
   "execution_count": 29,
   "id": "815c53c0",
   "metadata": {},
   "outputs": [],
   "source": [
    "import numpy as np"
   ]
  },
  {
   "cell_type": "code",
   "execution_count": 30,
   "id": "edaec7f7",
   "metadata": {},
   "outputs": [],
   "source": [
    "new_survey.where(~(new_survey.Gender.str.contains(';', na=False)), np.nan, inplace=True)"
   ]
  },
  {
   "cell_type": "code",
   "execution_count": 31,
   "id": "2d827b51",
   "metadata": {},
   "outputs": [
    {
     "data": {
      "text/html": [
       "<div>\n",
       "<style scoped>\n",
       "    .dataframe tbody tr th:only-of-type {\n",
       "        vertical-align: middle;\n",
       "    }\n",
       "\n",
       "    .dataframe tbody tr th {\n",
       "        vertical-align: top;\n",
       "    }\n",
       "\n",
       "    .dataframe thead th {\n",
       "        text-align: right;\n",
       "    }\n",
       "</style>\n",
       "<table border=\"1\" class=\"dataframe\">\n",
       "  <thead>\n",
       "    <tr style=\"text-align: right;\">\n",
       "      <th></th>\n",
       "      <th>Country</th>\n",
       "      <th>Age</th>\n",
       "      <th>Gender</th>\n",
       "      <th>EdLevel</th>\n",
       "      <th>UndergradMajor</th>\n",
       "      <th>Hobbyist</th>\n",
       "      <th>Age1stCode</th>\n",
       "      <th>YearsCode</th>\n",
       "      <th>YearsCodePro</th>\n",
       "      <th>LanguageWorkedWith</th>\n",
       "      <th>LanguageDesireNextYear</th>\n",
       "      <th>NEWLearn</th>\n",
       "      <th>NEWStuck</th>\n",
       "      <th>Employment</th>\n",
       "      <th>DevType</th>\n",
       "      <th>WorkWeekHrs</th>\n",
       "      <th>JobSat</th>\n",
       "      <th>JobFactors</th>\n",
       "      <th>NEWOvertime</th>\n",
       "      <th>NEWEdImpt</th>\n",
       "    </tr>\n",
       "  </thead>\n",
       "  <tbody>\n",
       "    <tr>\n",
       "      <th>3295</th>\n",
       "      <td>United States</td>\n",
       "      <td>NaN</td>\n",
       "      <td>Man</td>\n",
       "      <td>Bachelor’s degree (B.A., B.S., B.Eng., etc.)</td>\n",
       "      <td>A natural science (such as biology, chemistry,...</td>\n",
       "      <td>Yes</td>\n",
       "      <td>23.0</td>\n",
       "      <td>9.0</td>\n",
       "      <td>6.0</td>\n",
       "      <td>HTML/CSS;JavaScript</td>\n",
       "      <td>Haskell;HTML/CSS;JavaScript;Rust;TypeScript</td>\n",
       "      <td>Once a year</td>\n",
       "      <td>Call a coworker or friend;Visit Stack Overflow...</td>\n",
       "      <td>Employed full-time</td>\n",
       "      <td>Developer, back-end;Developer, front-end;Devel...</td>\n",
       "      <td>NaN</td>\n",
       "      <td>Very satisfied</td>\n",
       "      <td>Flex time or a flexible schedule;Languages, fr...</td>\n",
       "      <td>Occasionally: 1-2 days per quarter but less th...</td>\n",
       "      <td>Not at all important/not necessary</td>\n",
       "    </tr>\n",
       "    <tr>\n",
       "      <th>44215</th>\n",
       "      <td>NaN</td>\n",
       "      <td>NaN</td>\n",
       "      <td>NaN</td>\n",
       "      <td>NaN</td>\n",
       "      <td>NaN</td>\n",
       "      <td>No</td>\n",
       "      <td>NaN</td>\n",
       "      <td>NaN</td>\n",
       "      <td>NaN</td>\n",
       "      <td>NaN</td>\n",
       "      <td>NaN</td>\n",
       "      <td>NaN</td>\n",
       "      <td>NaN</td>\n",
       "      <td>NaN</td>\n",
       "      <td>NaN</td>\n",
       "      <td>NaN</td>\n",
       "      <td>NaN</td>\n",
       "      <td>NaN</td>\n",
       "      <td>NaN</td>\n",
       "      <td>NaN</td>\n",
       "    </tr>\n",
       "    <tr>\n",
       "      <th>38977</th>\n",
       "      <td>Slovenia</td>\n",
       "      <td>NaN</td>\n",
       "      <td>NaN</td>\n",
       "      <td>NaN</td>\n",
       "      <td>NaN</td>\n",
       "      <td>Yes</td>\n",
       "      <td>NaN</td>\n",
       "      <td>NaN</td>\n",
       "      <td>NaN</td>\n",
       "      <td>NaN</td>\n",
       "      <td>HTML/CSS;JavaScript</td>\n",
       "      <td>Every few months</td>\n",
       "      <td>NaN</td>\n",
       "      <td>Not employed, but looking for work</td>\n",
       "      <td>NaN</td>\n",
       "      <td>NaN</td>\n",
       "      <td>NaN</td>\n",
       "      <td>NaN</td>\n",
       "      <td>NaN</td>\n",
       "      <td>NaN</td>\n",
       "    </tr>\n",
       "    <tr>\n",
       "      <th>22238</th>\n",
       "      <td>Iran</td>\n",
       "      <td>29.0</td>\n",
       "      <td>Man</td>\n",
       "      <td>Some college/university study without earning ...</td>\n",
       "      <td>Computer science, computer engineering, or sof...</td>\n",
       "      <td>Yes</td>\n",
       "      <td>20.0</td>\n",
       "      <td>9.0</td>\n",
       "      <td>NaN</td>\n",
       "      <td>Python;Rust;SQL</td>\n",
       "      <td>Bash/Shell/PowerShell;Java;Rust</td>\n",
       "      <td>Once a year</td>\n",
       "      <td>Visit Stack Overflow;Watch help / tutorial videos</td>\n",
       "      <td>Not employed, but looking for work</td>\n",
       "      <td>Developer, back-end;Developer, desktop or ente...</td>\n",
       "      <td>NaN</td>\n",
       "      <td>NaN</td>\n",
       "      <td>Specific department or team I’d be working on;...</td>\n",
       "      <td>NaN</td>\n",
       "      <td>NaN</td>\n",
       "    </tr>\n",
       "    <tr>\n",
       "      <th>24749</th>\n",
       "      <td>Cuba</td>\n",
       "      <td>24.0</td>\n",
       "      <td>Man</td>\n",
       "      <td>Bachelor’s degree (B.A., B.S., B.Eng., etc.)</td>\n",
       "      <td>Computer science, computer engineering, or sof...</td>\n",
       "      <td>Yes</td>\n",
       "      <td>19.0</td>\n",
       "      <td>5.0</td>\n",
       "      <td>NaN</td>\n",
       "      <td>Dart;Java;JavaScript;Kotlin;Python</td>\n",
       "      <td>Dart;Python</td>\n",
       "      <td>Every few months</td>\n",
       "      <td>Visit Stack Overflow</td>\n",
       "      <td>Independent contractor, freelancer, or self-em...</td>\n",
       "      <td>Designer;Developer, full-stack;Developer, mobile</td>\n",
       "      <td>NaN</td>\n",
       "      <td>Slightly satisfied</td>\n",
       "      <td>How widely used or impactful my work output wo...</td>\n",
       "      <td>Often: 1-2 days per week or more</td>\n",
       "      <td>Fairly important</td>\n",
       "    </tr>\n",
       "    <tr>\n",
       "      <th>43975</th>\n",
       "      <td>Pakistan</td>\n",
       "      <td>NaN</td>\n",
       "      <td>NaN</td>\n",
       "      <td>Bachelor’s degree (B.A., B.S., B.Eng., etc.)</td>\n",
       "      <td>Computer science, computer engineering, or sof...</td>\n",
       "      <td>Yes</td>\n",
       "      <td>16.0</td>\n",
       "      <td>7.0</td>\n",
       "      <td>1.0</td>\n",
       "      <td>Dart;Java;JavaScript</td>\n",
       "      <td>Dart</td>\n",
       "      <td>NaN</td>\n",
       "      <td>Visit Stack Overflow;Go for a walk or other ph...</td>\n",
       "      <td>Employed full-time</td>\n",
       "      <td>Developer, mobile</td>\n",
       "      <td>NaN</td>\n",
       "      <td>NaN</td>\n",
       "      <td>NaN</td>\n",
       "      <td>NaN</td>\n",
       "      <td>Fairly important</td>\n",
       "    </tr>\n",
       "    <tr>\n",
       "      <th>54597</th>\n",
       "      <td>Bangladesh</td>\n",
       "      <td>NaN</td>\n",
       "      <td>Man</td>\n",
       "      <td>Bachelor’s degree (B.A., B.S., B.Eng., etc.)</td>\n",
       "      <td>Information systems, information technology, o...</td>\n",
       "      <td>No</td>\n",
       "      <td>26.0</td>\n",
       "      <td>4.0</td>\n",
       "      <td>NaN</td>\n",
       "      <td>HTML/CSS</td>\n",
       "      <td>HTML/CSS;Python</td>\n",
       "      <td>Once a year</td>\n",
       "      <td>Call a coworker or friend;Visit Stack Overflow...</td>\n",
       "      <td>Employed full-time</td>\n",
       "      <td>Designer;Developer, back-end;Developer, front-...</td>\n",
       "      <td>NaN</td>\n",
       "      <td>NaN</td>\n",
       "      <td>Flex time or a flexible schedule;Specific depa...</td>\n",
       "      <td>NaN</td>\n",
       "      <td>NaN</td>\n",
       "    </tr>\n",
       "    <tr>\n",
       "      <th>41086</th>\n",
       "      <td>France</td>\n",
       "      <td>NaN</td>\n",
       "      <td>NaN</td>\n",
       "      <td>Master’s degree (M.A., M.S., M.Eng., MBA, etc.)</td>\n",
       "      <td>Computer science, computer engineering, or sof...</td>\n",
       "      <td>Yes</td>\n",
       "      <td>17.0</td>\n",
       "      <td>8.0</td>\n",
       "      <td>2.0</td>\n",
       "      <td>NaN</td>\n",
       "      <td>NaN</td>\n",
       "      <td>NaN</td>\n",
       "      <td>NaN</td>\n",
       "      <td>Employed full-time</td>\n",
       "      <td>Developer, back-end;Developer, desktop or ente...</td>\n",
       "      <td>NaN</td>\n",
       "      <td>Slightly dissatisfied</td>\n",
       "      <td>NaN</td>\n",
       "      <td>NaN</td>\n",
       "      <td>Very important</td>\n",
       "    </tr>\n",
       "    <tr>\n",
       "      <th>55954</th>\n",
       "      <td>United Kingdom</td>\n",
       "      <td>60.0</td>\n",
       "      <td>Man</td>\n",
       "      <td>Bachelor’s degree (B.A., B.S., B.Eng., etc.)</td>\n",
       "      <td>Computer science, computer engineering, or sof...</td>\n",
       "      <td>Yes</td>\n",
       "      <td>18.0</td>\n",
       "      <td>42.0</td>\n",
       "      <td>18.0</td>\n",
       "      <td>Go</td>\n",
       "      <td>Go</td>\n",
       "      <td>Once every few years</td>\n",
       "      <td>Call a coworker or friend;Visit Stack Overflow...</td>\n",
       "      <td>Employed full-time</td>\n",
       "      <td>Developer, back-end;Developer, desktop or ente...</td>\n",
       "      <td>NaN</td>\n",
       "      <td>NaN</td>\n",
       "      <td>NaN</td>\n",
       "      <td>NaN</td>\n",
       "      <td>Fairly important</td>\n",
       "    </tr>\n",
       "    <tr>\n",
       "      <th>43283</th>\n",
       "      <td>Japan</td>\n",
       "      <td>NaN</td>\n",
       "      <td>NaN</td>\n",
       "      <td>Master’s degree (M.A., M.S., M.Eng., MBA, etc.)</td>\n",
       "      <td>Computer science, computer engineering, or sof...</td>\n",
       "      <td>No</td>\n",
       "      <td>NaN</td>\n",
       "      <td>NaN</td>\n",
       "      <td>NaN</td>\n",
       "      <td>NaN</td>\n",
       "      <td>NaN</td>\n",
       "      <td>NaN</td>\n",
       "      <td>NaN</td>\n",
       "      <td>Employed part-time</td>\n",
       "      <td>Academic researcher</td>\n",
       "      <td>NaN</td>\n",
       "      <td>Slightly satisfied</td>\n",
       "      <td>NaN</td>\n",
       "      <td>NaN</td>\n",
       "      <td>Very important</td>\n",
       "    </tr>\n",
       "  </tbody>\n",
       "</table>\n",
       "</div>"
      ],
      "text/plain": [
       "              Country   Age Gender  \\\n",
       "3295    United States   NaN    Man   \n",
       "44215             NaN   NaN    NaN   \n",
       "38977        Slovenia   NaN    NaN   \n",
       "22238            Iran  29.0    Man   \n",
       "24749            Cuba  24.0    Man   \n",
       "43975        Pakistan   NaN    NaN   \n",
       "54597      Bangladesh   NaN    Man   \n",
       "41086          France   NaN    NaN   \n",
       "55954  United Kingdom  60.0    Man   \n",
       "43283           Japan   NaN    NaN   \n",
       "\n",
       "                                                 EdLevel  \\\n",
       "3295        Bachelor’s degree (B.A., B.S., B.Eng., etc.)   \n",
       "44215                                                NaN   \n",
       "38977                                                NaN   \n",
       "22238  Some college/university study without earning ...   \n",
       "24749       Bachelor’s degree (B.A., B.S., B.Eng., etc.)   \n",
       "43975       Bachelor’s degree (B.A., B.S., B.Eng., etc.)   \n",
       "54597       Bachelor’s degree (B.A., B.S., B.Eng., etc.)   \n",
       "41086    Master’s degree (M.A., M.S., M.Eng., MBA, etc.)   \n",
       "55954       Bachelor’s degree (B.A., B.S., B.Eng., etc.)   \n",
       "43283    Master’s degree (M.A., M.S., M.Eng., MBA, etc.)   \n",
       "\n",
       "                                          UndergradMajor Hobbyist  Age1stCode  \\\n",
       "3295   A natural science (such as biology, chemistry,...      Yes        23.0   \n",
       "44215                                                NaN       No         NaN   \n",
       "38977                                                NaN      Yes         NaN   \n",
       "22238  Computer science, computer engineering, or sof...      Yes        20.0   \n",
       "24749  Computer science, computer engineering, or sof...      Yes        19.0   \n",
       "43975  Computer science, computer engineering, or sof...      Yes        16.0   \n",
       "54597  Information systems, information technology, o...       No        26.0   \n",
       "41086  Computer science, computer engineering, or sof...      Yes        17.0   \n",
       "55954  Computer science, computer engineering, or sof...      Yes        18.0   \n",
       "43283  Computer science, computer engineering, or sof...       No         NaN   \n",
       "\n",
       "       YearsCode  YearsCodePro                  LanguageWorkedWith  \\\n",
       "3295         9.0           6.0                 HTML/CSS;JavaScript   \n",
       "44215        NaN           NaN                                 NaN   \n",
       "38977        NaN           NaN                                 NaN   \n",
       "22238        9.0           NaN                     Python;Rust;SQL   \n",
       "24749        5.0           NaN  Dart;Java;JavaScript;Kotlin;Python   \n",
       "43975        7.0           1.0                Dart;Java;JavaScript   \n",
       "54597        4.0           NaN                            HTML/CSS   \n",
       "41086        8.0           2.0                                 NaN   \n",
       "55954       42.0          18.0                                  Go   \n",
       "43283        NaN           NaN                                 NaN   \n",
       "\n",
       "                            LanguageDesireNextYear              NEWLearn  \\\n",
       "3295   Haskell;HTML/CSS;JavaScript;Rust;TypeScript           Once a year   \n",
       "44215                                          NaN                   NaN   \n",
       "38977                          HTML/CSS;JavaScript      Every few months   \n",
       "22238              Bash/Shell/PowerShell;Java;Rust           Once a year   \n",
       "24749                                  Dart;Python      Every few months   \n",
       "43975                                         Dart                   NaN   \n",
       "54597                              HTML/CSS;Python           Once a year   \n",
       "41086                                          NaN                   NaN   \n",
       "55954                                           Go  Once every few years   \n",
       "43283                                          NaN                   NaN   \n",
       "\n",
       "                                                NEWStuck  \\\n",
       "3295   Call a coworker or friend;Visit Stack Overflow...   \n",
       "44215                                                NaN   \n",
       "38977                                                NaN   \n",
       "22238  Visit Stack Overflow;Watch help / tutorial videos   \n",
       "24749                               Visit Stack Overflow   \n",
       "43975  Visit Stack Overflow;Go for a walk or other ph...   \n",
       "54597  Call a coworker or friend;Visit Stack Overflow...   \n",
       "41086                                                NaN   \n",
       "55954  Call a coworker or friend;Visit Stack Overflow...   \n",
       "43283                                                NaN   \n",
       "\n",
       "                                              Employment  \\\n",
       "3295                                  Employed full-time   \n",
       "44215                                                NaN   \n",
       "38977                 Not employed, but looking for work   \n",
       "22238                 Not employed, but looking for work   \n",
       "24749  Independent contractor, freelancer, or self-em...   \n",
       "43975                                 Employed full-time   \n",
       "54597                                 Employed full-time   \n",
       "41086                                 Employed full-time   \n",
       "55954                                 Employed full-time   \n",
       "43283                                 Employed part-time   \n",
       "\n",
       "                                                 DevType  WorkWeekHrs  \\\n",
       "3295   Developer, back-end;Developer, front-end;Devel...          NaN   \n",
       "44215                                                NaN          NaN   \n",
       "38977                                                NaN          NaN   \n",
       "22238  Developer, back-end;Developer, desktop or ente...          NaN   \n",
       "24749   Designer;Developer, full-stack;Developer, mobile          NaN   \n",
       "43975                                  Developer, mobile          NaN   \n",
       "54597  Designer;Developer, back-end;Developer, front-...          NaN   \n",
       "41086  Developer, back-end;Developer, desktop or ente...          NaN   \n",
       "55954  Developer, back-end;Developer, desktop or ente...          NaN   \n",
       "43283                                Academic researcher          NaN   \n",
       "\n",
       "                      JobSat  \\\n",
       "3295          Very satisfied   \n",
       "44215                    NaN   \n",
       "38977                    NaN   \n",
       "22238                    NaN   \n",
       "24749     Slightly satisfied   \n",
       "43975                    NaN   \n",
       "54597                    NaN   \n",
       "41086  Slightly dissatisfied   \n",
       "55954                    NaN   \n",
       "43283     Slightly satisfied   \n",
       "\n",
       "                                              JobFactors  \\\n",
       "3295   Flex time or a flexible schedule;Languages, fr...   \n",
       "44215                                                NaN   \n",
       "38977                                                NaN   \n",
       "22238  Specific department or team I’d be working on;...   \n",
       "24749  How widely used or impactful my work output wo...   \n",
       "43975                                                NaN   \n",
       "54597  Flex time or a flexible schedule;Specific depa...   \n",
       "41086                                                NaN   \n",
       "55954                                                NaN   \n",
       "43283                                                NaN   \n",
       "\n",
       "                                             NEWOvertime  \\\n",
       "3295   Occasionally: 1-2 days per quarter but less th...   \n",
       "44215                                                NaN   \n",
       "38977                                                NaN   \n",
       "22238                                                NaN   \n",
       "24749                   Often: 1-2 days per week or more   \n",
       "43975                                                NaN   \n",
       "54597                                                NaN   \n",
       "41086                                                NaN   \n",
       "55954                                                NaN   \n",
       "43283                                                NaN   \n",
       "\n",
       "                                NEWEdImpt  \n",
       "3295   Not at all important/not necessary  \n",
       "44215                                 NaN  \n",
       "38977                                 NaN  \n",
       "22238                                 NaN  \n",
       "24749                    Fairly important  \n",
       "43975                    Fairly important  \n",
       "54597                                 NaN  \n",
       "41086                      Very important  \n",
       "55954                    Fairly important  \n",
       "43283                      Very important  "
      ]
     },
     "execution_count": 31,
     "metadata": {},
     "output_type": "execute_result"
    }
   ],
   "source": [
    "new_survey.sample(10) "
   ]
  },
  {
   "cell_type": "code",
   "execution_count": 32,
   "id": "9e509e84",
   "metadata": {},
   "outputs": [
    {
     "data": {
      "text/plain": [
       "Man                                                  11637\n",
       "Woman                                                 1124\n",
       "Non-binary, genderqueer, or gender non-conforming      125\n",
       "Name: Gender, dtype: int64"
      ]
     },
     "execution_count": 32,
     "metadata": {},
     "output_type": "execute_result"
    }
   ],
   "source": [
    "new_survey['Gender'].value_counts()"
   ]
  },
  {
   "cell_type": "code",
   "execution_count": 33,
   "id": "c201815d",
   "metadata": {},
   "outputs": [
    {
     "data": {
      "application/javascript": [
       "window.require && require([\"base/js/namespace\"],function(Jupyter){Jupyter.notebook.save_checkpoint()})"
      ],
      "text/plain": [
       "<IPython.core.display.Javascript object>"
      ]
     },
     "metadata": {},
     "output_type": "display_data"
    },
    {
     "name": "stdout",
     "output_type": "stream",
     "text": [
      "[jovian] Updating notebook \"shreyasky/python-eda-stackoverflow-survey\" on https://jovian.com\u001b[0m\n",
      "[jovian] Committed successfully! https://jovian.com/shreyasky/python-eda-stackoverflow-survey\u001b[0m\n"
     ]
    },
    {
     "data": {
      "text/plain": [
       "'https://jovian.com/shreyasky/python-eda-stackoverflow-survey'"
      ]
     },
     "execution_count": 33,
     "metadata": {},
     "output_type": "execute_result"
    }
   ],
   "source": [
    "import jovian \n",
    "jovian.commit()"
   ]
  },
  {
   "cell_type": "markdown",
   "id": "d3f21e3c",
   "metadata": {},
   "source": [
    "### Exploratory Analysis and Visualization"
   ]
  },
  {
   "cell_type": "code",
   "execution_count": 34,
   "id": "20cc7a04",
   "metadata": {},
   "outputs": [],
   "source": [
    "import seaborn as sns\n",
    "import matplotlib\n",
    "import matplotlib.pyplot as plt\n",
    "%matplotlib inline\n",
    "# import matplotlib.pyplot as plt: This imports the matplotlib.pyplot module, which provides a MATLAB-like plotting framework. The alias plt is a commonly used shorthand for pyplot.\n",
    "# %matplotlib inline: This is a magic command for Jupyter Notebooks that allows the plots to be displayed inline within the notebook.\n",
    "sns.set_style('darkgrid')\n",
    "matplotlib.rcParams['font.size']=14\n",
    "matplotlib.rcParams['figure.figsize']=(10,5)\n",
    "matplotlib.rcParams['figure.facecolor']='#FFFFFF'\n"
   ]
  },
  {
   "cell_type": "markdown",
   "id": "22b24d24",
   "metadata": {},
   "source": [
    "## Country"
   ]
  },
  {
   "cell_type": "code",
   "execution_count": 35,
   "id": "5e3af5a6",
   "metadata": {},
   "outputs": [
    {
     "data": {
      "text/plain": [
       "'Where do you live?'"
      ]
     },
     "execution_count": 35,
     "metadata": {},
     "output_type": "execute_result"
    }
   ],
   "source": [
    "new_scheme.Country"
   ]
  },
  {
   "cell_type": "code",
   "execution_count": 36,
   "id": "109a5daa",
   "metadata": {},
   "outputs": [
    {
     "data": {
      "text/plain": [
       "177"
      ]
     },
     "execution_count": 36,
     "metadata": {},
     "output_type": "execute_result"
    }
   ],
   "source": [
    "new_survey.Country.nunique()"
   ]
  },
  {
   "cell_type": "code",
   "execution_count": 39,
   "id": "f6601640",
   "metadata": {
    "scrolled": true
   },
   "outputs": [
    {
     "data": {
      "text/plain": [
       "India                 4378\n",
       "United States         3348\n",
       "Germany               1190\n",
       "United Kingdom         981\n",
       "Canada                 690\n",
       "France                 619\n",
       "Brazil                 551\n",
       "Pakistan               408\n",
       "Netherlands            404\n",
       "Nigeria                398\n",
       "Poland                 373\n",
       "Bangladesh             362\n",
       "Russian Federation     352\n",
       "Italy                  338\n",
       "Turkey                 328\n",
       "Name: Country, dtype: int64"
      ]
     },
     "execution_count": 39,
     "metadata": {},
     "output_type": "execute_result"
    }
   ],
   "source": [
    "list_of_country = new_survey.Country.value_counts().head(15)\n",
    "list_of_country"
   ]
  },
  {
   "cell_type": "code",
   "execution_count": 40,
   "id": "9396ab8c",
   "metadata": {},
   "outputs": [
    {
     "data": {
      "text/plain": [
       "<AxesSubplot:title={'center':'Where do you live?'}, ylabel='Country'>"
      ]
     },
     "execution_count": 40,
     "metadata": {},
     "output_type": "execute_result"
    },
    {
     "data": {
      "image/png": "[encoded data removed]",
      "text/plain": [
       "<Figure size 864x360 with 1 Axes>"
      ]
     },
     "metadata": {},
     "output_type": "display_data"
    }
   ],
   "source": [
    "plt.figure(figsize=(12,5))\n",
    "plt.xticks(rotation=120)\n",
    "plt.title(new_scheme.Country)\n",
    "sns.barplot(x=list_of_country.index,y=list_of_country)"
   ]
  },
  {
   "cell_type": "markdown",
   "id": "b45b075e",
   "metadata": {},
   "source": [
    "It appears that a disproportionately high number of respondents \n",
    "are from the India and US, probably because the survey is in English, and these\n",
    "countries have the highest English-speaking populations."
   ]
  },
  {
   "cell_type": "code",
   "execution_count": 41,
   "id": "cc402a3b",
   "metadata": {},
   "outputs": [],
   "source": [
    "# solve exercise after this"
   ]
  },
  {
   "cell_type": "markdown",
   "id": "6144f4e7",
   "metadata": {},
   "source": [
    "## Age"
   ]
  },
  {
   "cell_type": "code",
   "execution_count": 42,
   "id": "9d7bb44b",
   "metadata": {},
   "outputs": [
    {
     "data": {
      "text/plain": [
       "(array([ 205., 2119., 3776., 1675.,  872.,  574.,  368.,  263.,  158.,\n",
       "         118.,   93.,   69.,   42.]),\n",
       " array([10, 15, 20, 25, 30, 35, 40, 45, 50, 55, 60, 65, 70, 75]),\n",
       " <BarContainer object of 13 artists>)"
      ]
     },
     "execution_count": 42,
     "metadata": {},
     "output_type": "execute_result"
    },
    {
     "data": {
      "image/png": "[encoded data removed]",
      "text/plain": [
       "<Figure size 864x432 with 1 Axes>"
      ]
     },
     "metadata": {},
     "output_type": "display_data"
    }
   ],
   "source": [
    "plt.figure(figsize=(12,6))\n",
    "plt.title(new_scheme.Age)\n",
    "plt.xlabel('Age')\n",
    "plt.ylabel('Number of respondents')\n",
    "\n",
    "plt.hist(new_survey.Age , bins=np.arange(10,80,5),color='red')"
   ]
  },
  {
   "cell_type": "markdown",
   "id": "ddf30515",
   "metadata": {},
   "source": [
    "It appears that a large percentage of respondents are 20-45 years old.Many young people have taken up computer science as their field of study or profession in the last 20 years."
   ]
  },
  {
   "cell_type": "markdown",
   "id": "c2b8ee96",
   "metadata": {},
   "source": [
    "## Gender"
   ]
  },
  {
   "cell_type": "code",
   "execution_count": 43,
   "id": "766bb6e4",
   "metadata": {},
   "outputs": [
    {
     "data": {
      "text/plain": [
       "Man                                                  11637\n",
       "Woman                                                 1124\n",
       "Non-binary, genderqueer, or gender non-conforming      125\n",
       "Name: Gender, dtype: int64"
      ]
     },
     "execution_count": 43,
     "metadata": {},
     "output_type": "execute_result"
    }
   ],
   "source": [
    "gender_counts = new_survey.Gender.value_counts()\n",
    "gender_counts"
   ]
  },
  {
   "cell_type": "code",
   "execution_count": 44,
   "id": "6b20a3ac",
   "metadata": {
    "scrolled": true
   },
   "outputs": [
    {
     "data": {
      "image/png": "[encoded data removed]",
      "text/plain": [
       "<Figure size 864x432 with 1 Axes>"
      ]
     },
     "metadata": {},
     "output_type": "display_data"
    }
   ],
   "source": [
    "plt.figure(figsize=(12,6))\n",
    "plt.title(new_scheme.Gender)\n",
    "plt.pie(gender_counts, labels=gender_counts.index, autopct='%1.1f%%', startangle=180);"
   ]
  },
  {
   "cell_type": "markdown",
   "id": "dbc3e264",
   "metadata": {},
   "source": [
    "Only about 10% of survey respondents who have answered the question identify as women or non-binary. This number is lower than the overall percentage of women & non-binary genders in the programming community - which is estimated to be around 12%."
   ]
  },
  {
   "cell_type": "code",
   "execution_count": 45,
   "id": "96aaa329",
   "metadata": {},
   "outputs": [
    {
     "data": {
      "application/javascript": [
       "window.require && require([\"base/js/namespace\"],function(Jupyter){Jupyter.notebook.save_checkpoint()})"
      ],
      "text/plain": [
       "<IPython.core.display.Javascript object>"
      ]
     },
     "metadata": {},
     "output_type": "display_data"
    },
    {
     "name": "stdout",
     "output_type": "stream",
     "text": [
      "[jovian] Updating notebook \"shreyasky/python-eda-stackoverflow-survey\" on https://jovian.com\u001b[0m\n",
      "[jovian] Committed successfully! https://jovian.com/shreyasky/python-eda-stackoverflow-survey\u001b[0m\n"
     ]
    },
    {
     "data": {
      "text/plain": [
       "'https://jovian.com/shreyasky/python-eda-stackoverflow-survey'"
      ]
     },
     "execution_count": 45,
     "metadata": {},
     "output_type": "execute_result"
    }
   ],
   "source": [
    "import jovian \n",
    "jovian.commit()"
   ]
  },
  {
   "cell_type": "markdown",
   "id": "aa442c05",
   "metadata": {},
   "source": [
    "## Education Level"
   ]
  },
  {
   "cell_type": "markdown",
   "id": "194d216c",
   "metadata": {},
   "source": [
    "Formal education in computer science is often considered an essential requirement for becoming a programmer. However, there are many free resources & tutorials available online to learn programming.\n",
    "Let's compare the eduation level of programmer"
   ]
  },
  {
   "cell_type": "code",
   "execution_count": 46,
   "id": "ab439558",
   "metadata": {
    "scrolled": true
   },
   "outputs": [
    {
     "data": {
      "image/png": "[encoded data removed]",
      "text/plain": [
       "<Figure size 720x360 with 1 Axes>"
      ]
     },
     "metadata": {},
     "output_type": "display_data"
    }
   ],
   "source": [
    "sns.countplot(y=new_survey.EdLevel)\n",
    "plt.xticks(rotation=70);\n",
    "plt.title(new_scheme['EdLevel'])\n",
    "plt.ylabel(None);"
   ]
  },
  {
   "cell_type": "markdown",
   "id": "f84676ef",
   "metadata": {},
   "source": [
    "It appears that well over half of the respondents hold a bachelor's or master's degree, so most programmers seem to have some college education."
   ]
  },
  {
   "cell_type": "code",
   "execution_count": 47,
   "id": "64ec2e19",
   "metadata": {},
   "outputs": [
    {
     "data": {
      "image/png": "[encoded data removed]",
      "text/plain": [
       "<Figure size 720x360 with 1 Axes>"
      ]
     },
     "metadata": {},
     "output_type": "display_data"
    }
   ],
   "source": [
    "sns.countplot(y=new_survey.EdLevel,hue=new_survey['Gender'])\n",
    "plt.xticks(rotation=75);\n",
    "plt.title(new_scheme['EdLevel'])\n",
    "plt.ylabel(None);"
   ]
  },
  {
   "cell_type": "code",
   "execution_count": 48,
   "id": "ffa0b645",
   "metadata": {},
   "outputs": [
    {
     "data": {
      "text/plain": [
       "'What was your primary field of study?'"
      ]
     },
     "execution_count": 48,
     "metadata": {},
     "output_type": "execute_result"
    }
   ],
   "source": [
    "new_scheme.UndergradMajor"
   ]
  },
  {
   "cell_type": "code",
   "execution_count": 49,
   "id": "a0e48d14",
   "metadata": {},
   "outputs": [
    {
     "data": {
      "text/plain": [
       "Computer science, computer engineering, or software engineering                   60.289004\n",
       "Another engineering discipline (such as civil, electrical, mechanical, etc.)       9.636040\n",
       "Information systems, information technology, or system administration              8.144657\n",
       "Web development or web design                                                      4.798702\n",
       "A natural science (such as biology, chemistry, physics, etc.)                      3.809597\n",
       "Mathematics or statistics                                                          3.585503\n",
       "A business discipline (such as accounting, finance, marketing, etc.)               2.944131\n",
       "A social science (such as anthropology, psychology, political science, etc.)       1.800479\n",
       "A humanities discipline (such as literature, history, philosophy, etc.)            1.599567\n",
       "I never declared a major                                                           1.329109\n",
       "Fine arts or performing arts (such as graphic design, music, studio art, etc.)     1.259563\n",
       "A health science (such as nursing, pharmacy, radiology, etc.)                      0.803647\n",
       "Name: UndergradMajor, dtype: float64"
      ]
     },
     "execution_count": 49,
     "metadata": {},
     "output_type": "execute_result"
    }
   ],
   "source": [
    "undergrad  = new_survey.UndergradMajor.value_counts()*100/new_survey.UndergradMajor.count()\n",
    "undergrad"
   ]
  },
  {
   "cell_type": "code",
   "execution_count": 50,
   "id": "550cf550",
   "metadata": {},
   "outputs": [
    {
     "data": {
      "text/plain": [
       "Text(0.5, 0, 'Percentage')"
      ]
     },
     "execution_count": 50,
     "metadata": {},
     "output_type": "execute_result"
    },
    {
     "data": {
      "image/png": "[encoded data removed]",
      "text/plain": [
       "<Figure size 720x360 with 1 Axes>"
      ]
     },
     "metadata": {},
     "output_type": "display_data"
    }
   ],
   "source": [
    "sns.barplot(x=undergrad,y=undergrad.index)\n",
    "plt.title(new_scheme.UndergradMajor)\n",
    "plt.ylabel(None);\n",
    "plt.xlabel('Percentage')"
   ]
  },
  {
   "cell_type": "code",
   "execution_count": 51,
   "id": "0e38ee25",
   "metadata": {},
   "outputs": [
    {
     "data": {
      "text/plain": [
       "'How important is a formal education, such as a university degree in computer science, to your career?'"
      ]
     },
     "execution_count": 51,
     "metadata": {},
     "output_type": "execute_result"
    }
   ],
   "source": [
    "new_scheme.NEWEdImpt"
   ]
  },
  {
   "cell_type": "markdown",
   "id": "b4b42e6e",
   "metadata": {},
   "source": [
    "## Employment  "
   ]
  },
  {
   "cell_type": "code",
   "execution_count": 52,
   "id": "0a229035",
   "metadata": {},
   "outputs": [
    {
     "data": {
      "text/plain": [
       "'Which of the following best describes your current employment status?'"
      ]
     },
     "execution_count": 52,
     "metadata": {},
     "output_type": "execute_result"
    }
   ],
   "source": [
    "new_scheme.Employment"
   ]
  },
  {
   "cell_type": "code",
   "execution_count": 53,
   "id": "3e607ef1",
   "metadata": {},
   "outputs": [
    {
     "data": {
      "image/png": "[encoded data removed]",
      "text/plain": [
       "<Figure size 720x360 with 1 Axes>"
      ]
     },
     "metadata": {},
     "output_type": "display_data"
    }
   ],
   "source": [
    "percen = new_survey.Employment.value_counts()*100/new_survey.Employment.count()\n",
    "percen\n",
    "sns.barplot(x=percen,y=percen.index)\n",
    "plt.title(new_scheme.Employment)\n",
    "plt.xlabel('Percentage');\n",
    "plt.ylabel(None);"
   ]
  },
  {
   "cell_type": "markdown",
   "id": "7c8e37f3",
   "metadata": {},
   "source": [
    "- It appears that close to 10% of respondents are employed part time or as freelancer"
   ]
  },
  {
   "cell_type": "code",
   "execution_count": 54,
   "id": "ad73542c",
   "metadata": {},
   "outputs": [
    {
     "data": {
      "text/plain": [
       "Employed full-time                                      41.948319\n",
       "Student                                                 33.815749\n",
       "Not employed, but looking for work                      10.161340\n",
       "Independent contractor, freelancer, or self-employed     7.621005\n",
       "Employed part-time                                       4.009444\n",
       "Not employed, and not looking for work                   1.390407\n",
       "Retired                                                  1.053736\n",
       "Name: Employment, dtype: float64"
      ]
     },
     "execution_count": 54,
     "metadata": {},
     "output_type": "execute_result"
    }
   ],
   "source": [
    "percen"
   ]
  },
  {
   "cell_type": "code",
   "execution_count": 55,
   "id": "1f955bbe",
   "metadata": {},
   "outputs": [
    {
     "data": {
      "text/plain": [
       "'Which of the following describe you? Please select all that apply.'"
      ]
     },
     "execution_count": 55,
     "metadata": {},
     "output_type": "execute_result"
    }
   ],
   "source": [
    "new_scheme.DevType"
   ]
  },
  {
   "cell_type": "code",
   "execution_count": 56,
   "id": "8bfe3558",
   "metadata": {},
   "outputs": [
    {
     "data": {
      "text/plain": [
       "Developer, full-stack                                                                                                                                                                                             743\n",
       "Developer, back-end                                                                                                                                                                                               536\n",
       "Developer, front-end                                                                                                                                                                                              329\n",
       "Developer, back-end;Developer, front-end;Developer, full-stack                                                                                                                                                    304\n",
       "Developer, mobile                                                                                                                                                                                                 234\n",
       "                                                                                                                                                                                                                 ... \n",
       "Data or business analyst;Developer, back-end;Developer, desktop or enterprise applications;Developer, full-stack;Developer, mobile;Developer, QA or test;DevOps specialist;Engineer, data;System administrator      1\n",
       "Data or business analyst;Data scientist or machine learning specialist;Developer, back-end;Developer, full-stack;Engineer, data;Scientist                                                                           1\n",
       "Data or business analyst;Educator;Engineer, data                                                                                                                                                                    1\n",
       "Database administrator;DevOps specialist;Engineer, data                                                                                                                                                             1\n",
       "Data or business analyst;Developer, mobile;Senior executive/VP;System administrator                                                                                                                                 1\n",
       "Name: DevType, Length: 2495, dtype: int64"
      ]
     },
     "execution_count": 56,
     "metadata": {},
     "output_type": "execute_result"
    }
   ],
   "source": [
    "new_survey.DevType.value_counts()"
   ]
  },
  {
   "cell_type": "code",
   "execution_count": 57,
   "id": "3773369a",
   "metadata": {},
   "outputs": [],
   "source": [
    "def split_multicolumn(col_series):\n",
    "    result_df = col_series.to_frame()\n",
    "    options = []\n",
    "    \n",
    "    for idx, value  in col_series[col_series.notnull()].iteritems():\n",
    "        # Break each value into list of options\n",
    "        for option in value.split(';'):\n",
    "            # Add the option as a column to result\n",
    "            if not option in result_df.columns:\n",
    "                options.append(option)\n",
    "                result_df[option] = False\n",
    "            # Mark the value in the option column as True\n",
    "            result_df.at[idx, option] = True\n",
    "    return result_df[options]"
   ]
  },
  {
   "cell_type": "code",
   "execution_count": 58,
   "id": "737be551",
   "metadata": {},
   "outputs": [
    {
     "data": {
      "text/html": [
       "<div>\n",
       "<style scoped>\n",
       "    .dataframe tbody tr th:only-of-type {\n",
       "        vertical-align: middle;\n",
       "    }\n",
       "\n",
       "    .dataframe tbody tr th {\n",
       "        vertical-align: top;\n",
       "    }\n",
       "\n",
       "    .dataframe thead th {\n",
       "        text-align: right;\n",
       "    }\n",
       "</style>\n",
       "<table border=\"1\" class=\"dataframe\">\n",
       "  <thead>\n",
       "    <tr style=\"text-align: right;\">\n",
       "      <th></th>\n",
       "      <th>Developer, full-stack</th>\n",
       "      <th>Developer, mobile</th>\n",
       "      <th>Designer</th>\n",
       "      <th>Developer, front-end</th>\n",
       "      <th>Developer, back-end</th>\n",
       "      <th>Developer, QA or test</th>\n",
       "      <th>DevOps specialist</th>\n",
       "      <th>Database administrator</th>\n",
       "      <th>Engineering manager</th>\n",
       "      <th>Product manager</th>\n",
       "      <th>...</th>\n",
       "      <th>Data scientist or machine learning specialist</th>\n",
       "      <th>Engineer, data</th>\n",
       "      <th>Developer, desktop or enterprise applications</th>\n",
       "      <th>Developer, embedded applications or devices</th>\n",
       "      <th>Educator</th>\n",
       "      <th>Senior executive/VP</th>\n",
       "      <th>Developer, game or graphics</th>\n",
       "      <th>Engineer, site reliability</th>\n",
       "      <th>Scientist</th>\n",
       "      <th>Marketing or sales professional</th>\n",
       "    </tr>\n",
       "  </thead>\n",
       "  <tbody>\n",
       "    <tr>\n",
       "      <th>1</th>\n",
       "      <td>True</td>\n",
       "      <td>True</td>\n",
       "      <td>False</td>\n",
       "      <td>False</td>\n",
       "      <td>False</td>\n",
       "      <td>False</td>\n",
       "      <td>False</td>\n",
       "      <td>False</td>\n",
       "      <td>False</td>\n",
       "      <td>False</td>\n",
       "      <td>...</td>\n",
       "      <td>False</td>\n",
       "      <td>False</td>\n",
       "      <td>False</td>\n",
       "      <td>False</td>\n",
       "      <td>False</td>\n",
       "      <td>False</td>\n",
       "      <td>False</td>\n",
       "      <td>False</td>\n",
       "      <td>False</td>\n",
       "      <td>False</td>\n",
       "    </tr>\n",
       "    <tr>\n",
       "      <th>2</th>\n",
       "      <td>False</td>\n",
       "      <td>False</td>\n",
       "      <td>False</td>\n",
       "      <td>False</td>\n",
       "      <td>False</td>\n",
       "      <td>False</td>\n",
       "      <td>False</td>\n",
       "      <td>False</td>\n",
       "      <td>False</td>\n",
       "      <td>False</td>\n",
       "      <td>...</td>\n",
       "      <td>False</td>\n",
       "      <td>False</td>\n",
       "      <td>False</td>\n",
       "      <td>False</td>\n",
       "      <td>False</td>\n",
       "      <td>False</td>\n",
       "      <td>False</td>\n",
       "      <td>False</td>\n",
       "      <td>False</td>\n",
       "      <td>False</td>\n",
       "    </tr>\n",
       "    <tr>\n",
       "      <th>4</th>\n",
       "      <td>False</td>\n",
       "      <td>False</td>\n",
       "      <td>False</td>\n",
       "      <td>False</td>\n",
       "      <td>False</td>\n",
       "      <td>False</td>\n",
       "      <td>False</td>\n",
       "      <td>False</td>\n",
       "      <td>False</td>\n",
       "      <td>False</td>\n",
       "      <td>...</td>\n",
       "      <td>False</td>\n",
       "      <td>False</td>\n",
       "      <td>False</td>\n",
       "      <td>False</td>\n",
       "      <td>False</td>\n",
       "      <td>False</td>\n",
       "      <td>False</td>\n",
       "      <td>False</td>\n",
       "      <td>False</td>\n",
       "      <td>False</td>\n",
       "    </tr>\n",
       "    <tr>\n",
       "      <th>5</th>\n",
       "      <td>False</td>\n",
       "      <td>True</td>\n",
       "      <td>True</td>\n",
       "      <td>True</td>\n",
       "      <td>False</td>\n",
       "      <td>False</td>\n",
       "      <td>False</td>\n",
       "      <td>False</td>\n",
       "      <td>False</td>\n",
       "      <td>False</td>\n",
       "      <td>...</td>\n",
       "      <td>False</td>\n",
       "      <td>False</td>\n",
       "      <td>False</td>\n",
       "      <td>False</td>\n",
       "      <td>False</td>\n",
       "      <td>False</td>\n",
       "      <td>False</td>\n",
       "      <td>False</td>\n",
       "      <td>False</td>\n",
       "      <td>False</td>\n",
       "    </tr>\n",
       "    <tr>\n",
       "      <th>6</th>\n",
       "      <td>False</td>\n",
       "      <td>False</td>\n",
       "      <td>False</td>\n",
       "      <td>True</td>\n",
       "      <td>True</td>\n",
       "      <td>True</td>\n",
       "      <td>True</td>\n",
       "      <td>False</td>\n",
       "      <td>False</td>\n",
       "      <td>False</td>\n",
       "      <td>...</td>\n",
       "      <td>False</td>\n",
       "      <td>False</td>\n",
       "      <td>False</td>\n",
       "      <td>False</td>\n",
       "      <td>False</td>\n",
       "      <td>False</td>\n",
       "      <td>False</td>\n",
       "      <td>False</td>\n",
       "      <td>False</td>\n",
       "      <td>False</td>\n",
       "    </tr>\n",
       "    <tr>\n",
       "      <th>...</th>\n",
       "      <td>...</td>\n",
       "      <td>...</td>\n",
       "      <td>...</td>\n",
       "      <td>...</td>\n",
       "      <td>...</td>\n",
       "      <td>...</td>\n",
       "      <td>...</td>\n",
       "      <td>...</td>\n",
       "      <td>...</td>\n",
       "      <td>...</td>\n",
       "      <td>...</td>\n",
       "      <td>...</td>\n",
       "      <td>...</td>\n",
       "      <td>...</td>\n",
       "      <td>...</td>\n",
       "      <td>...</td>\n",
       "      <td>...</td>\n",
       "      <td>...</td>\n",
       "      <td>...</td>\n",
       "      <td>...</td>\n",
       "      <td>...</td>\n",
       "    </tr>\n",
       "    <tr>\n",
       "      <th>64456</th>\n",
       "      <td>False</td>\n",
       "      <td>False</td>\n",
       "      <td>False</td>\n",
       "      <td>False</td>\n",
       "      <td>False</td>\n",
       "      <td>False</td>\n",
       "      <td>False</td>\n",
       "      <td>False</td>\n",
       "      <td>False</td>\n",
       "      <td>False</td>\n",
       "      <td>...</td>\n",
       "      <td>False</td>\n",
       "      <td>False</td>\n",
       "      <td>False</td>\n",
       "      <td>False</td>\n",
       "      <td>False</td>\n",
       "      <td>True</td>\n",
       "      <td>False</td>\n",
       "      <td>False</td>\n",
       "      <td>False</td>\n",
       "      <td>False</td>\n",
       "    </tr>\n",
       "    <tr>\n",
       "      <th>64457</th>\n",
       "      <td>False</td>\n",
       "      <td>False</td>\n",
       "      <td>False</td>\n",
       "      <td>False</td>\n",
       "      <td>False</td>\n",
       "      <td>False</td>\n",
       "      <td>False</td>\n",
       "      <td>False</td>\n",
       "      <td>False</td>\n",
       "      <td>False</td>\n",
       "      <td>...</td>\n",
       "      <td>False</td>\n",
       "      <td>False</td>\n",
       "      <td>False</td>\n",
       "      <td>False</td>\n",
       "      <td>False</td>\n",
       "      <td>False</td>\n",
       "      <td>False</td>\n",
       "      <td>False</td>\n",
       "      <td>False</td>\n",
       "      <td>False</td>\n",
       "    </tr>\n",
       "    <tr>\n",
       "      <th>64458</th>\n",
       "      <td>False</td>\n",
       "      <td>False</td>\n",
       "      <td>False</td>\n",
       "      <td>False</td>\n",
       "      <td>False</td>\n",
       "      <td>False</td>\n",
       "      <td>False</td>\n",
       "      <td>False</td>\n",
       "      <td>False</td>\n",
       "      <td>False</td>\n",
       "      <td>...</td>\n",
       "      <td>False</td>\n",
       "      <td>False</td>\n",
       "      <td>False</td>\n",
       "      <td>False</td>\n",
       "      <td>False</td>\n",
       "      <td>False</td>\n",
       "      <td>False</td>\n",
       "      <td>False</td>\n",
       "      <td>False</td>\n",
       "      <td>False</td>\n",
       "    </tr>\n",
       "    <tr>\n",
       "      <th>64459</th>\n",
       "      <td>False</td>\n",
       "      <td>False</td>\n",
       "      <td>False</td>\n",
       "      <td>False</td>\n",
       "      <td>False</td>\n",
       "      <td>False</td>\n",
       "      <td>False</td>\n",
       "      <td>False</td>\n",
       "      <td>False</td>\n",
       "      <td>False</td>\n",
       "      <td>...</td>\n",
       "      <td>False</td>\n",
       "      <td>False</td>\n",
       "      <td>False</td>\n",
       "      <td>False</td>\n",
       "      <td>False</td>\n",
       "      <td>False</td>\n",
       "      <td>False</td>\n",
       "      <td>False</td>\n",
       "      <td>False</td>\n",
       "      <td>False</td>\n",
       "    </tr>\n",
       "    <tr>\n",
       "      <th>64460</th>\n",
       "      <td>False</td>\n",
       "      <td>False</td>\n",
       "      <td>False</td>\n",
       "      <td>False</td>\n",
       "      <td>False</td>\n",
       "      <td>False</td>\n",
       "      <td>False</td>\n",
       "      <td>False</td>\n",
       "      <td>False</td>\n",
       "      <td>False</td>\n",
       "      <td>...</td>\n",
       "      <td>False</td>\n",
       "      <td>False</td>\n",
       "      <td>False</td>\n",
       "      <td>False</td>\n",
       "      <td>False</td>\n",
       "      <td>False</td>\n",
       "      <td>False</td>\n",
       "      <td>False</td>\n",
       "      <td>False</td>\n",
       "      <td>False</td>\n",
       "    </tr>\n",
       "  </tbody>\n",
       "</table>\n",
       "<p>23520 rows × 23 columns</p>\n",
       "</div>"
      ],
      "text/plain": [
       "       Developer, full-stack  Developer, mobile  Designer  \\\n",
       "1                       True               True     False   \n",
       "2                      False              False     False   \n",
       "4                      False              False     False   \n",
       "5                      False               True      True   \n",
       "6                      False              False     False   \n",
       "...                      ...                ...       ...   \n",
       "64456                  False              False     False   \n",
       "64457                  False              False     False   \n",
       "64458                  False              False     False   \n",
       "64459                  False              False     False   \n",
       "64460                  False              False     False   \n",
       "\n",
       "       Developer, front-end  Developer, back-end  Developer, QA or test  \\\n",
       "1                     False                False                  False   \n",
       "2                     False                False                  False   \n",
       "4                     False                False                  False   \n",
       "5                      True                False                  False   \n",
       "6                      True                 True                   True   \n",
       "...                     ...                  ...                    ...   \n",
       "64456                 False                False                  False   \n",
       "64457                 False                False                  False   \n",
       "64458                 False                False                  False   \n",
       "64459                 False                False                  False   \n",
       "64460                 False                False                  False   \n",
       "\n",
       "       DevOps specialist  Database administrator  Engineering manager  \\\n",
       "1                  False                   False                False   \n",
       "2                  False                   False                False   \n",
       "4                  False                   False                False   \n",
       "5                  False                   False                False   \n",
       "6                   True                   False                False   \n",
       "...                  ...                     ...                  ...   \n",
       "64456              False                   False                False   \n",
       "64457              False                   False                False   \n",
       "64458              False                   False                False   \n",
       "64459              False                   False                False   \n",
       "64460              False                   False                False   \n",
       "\n",
       "       Product manager  ...  Data scientist or machine learning specialist  \\\n",
       "1                False  ...                                          False   \n",
       "2                False  ...                                          False   \n",
       "4                False  ...                                          False   \n",
       "5                False  ...                                          False   \n",
       "6                False  ...                                          False   \n",
       "...                ...  ...                                            ...   \n",
       "64456            False  ...                                          False   \n",
       "64457            False  ...                                          False   \n",
       "64458            False  ...                                          False   \n",
       "64459            False  ...                                          False   \n",
       "64460            False  ...                                          False   \n",
       "\n",
       "       Engineer, data  Developer, desktop or enterprise applications  \\\n",
       "1               False                                          False   \n",
       "2               False                                          False   \n",
       "4               False                                          False   \n",
       "5               False                                          False   \n",
       "6               False                                          False   \n",
       "...               ...                                            ...   \n",
       "64456           False                                          False   \n",
       "64457           False                                          False   \n",
       "64458           False                                          False   \n",
       "64459           False                                          False   \n",
       "64460           False                                          False   \n",
       "\n",
       "       Developer, embedded applications or devices  Educator  \\\n",
       "1                                            False     False   \n",
       "2                                            False     False   \n",
       "4                                            False     False   \n",
       "5                                            False     False   \n",
       "6                                            False     False   \n",
       "...                                            ...       ...   \n",
       "64456                                        False     False   \n",
       "64457                                        False     False   \n",
       "64458                                        False     False   \n",
       "64459                                        False     False   \n",
       "64460                                        False     False   \n",
       "\n",
       "       Senior executive/VP  Developer, game or graphics  \\\n",
       "1                    False                        False   \n",
       "2                    False                        False   \n",
       "4                    False                        False   \n",
       "5                    False                        False   \n",
       "6                    False                        False   \n",
       "...                    ...                          ...   \n",
       "64456                 True                        False   \n",
       "64457                False                        False   \n",
       "64458                False                        False   \n",
       "64459                False                        False   \n",
       "64460                False                        False   \n",
       "\n",
       "       Engineer, site reliability  Scientist  Marketing or sales professional  \n",
       "1                           False      False                            False  \n",
       "2                           False      False                            False  \n",
       "4                           False      False                            False  \n",
       "5                           False      False                            False  \n",
       "6                           False      False                            False  \n",
       "...                           ...        ...                              ...  \n",
       "64456                       False      False                            False  \n",
       "64457                       False      False                            False  \n",
       "64458                       False      False                            False  \n",
       "64459                       False      False                            False  \n",
       "64460                       False      False                            False  \n",
       "\n",
       "[23520 rows x 23 columns]"
      ]
     },
     "execution_count": 58,
     "metadata": {},
     "output_type": "execute_result"
    }
   ],
   "source": [
    "dev_type_df = split_multicolumn(new_survey.DevType)\n",
    "dev_type_df"
   ]
  },
  {
   "cell_type": "code",
   "execution_count": 59,
   "id": "73c1de3d",
   "metadata": {},
   "outputs": [
    {
     "data": {
      "application/javascript": [
       "window.require && require([\"base/js/namespace\"],function(Jupyter){Jupyter.notebook.save_checkpoint()})"
      ],
      "text/plain": [
       "<IPython.core.display.Javascript object>"
      ]
     },
     "metadata": {},
     "output_type": "display_data"
    },
    {
     "name": "stdout",
     "output_type": "stream",
     "text": [
      "[jovian] Updating notebook \"shreyasky/python-eda-stackoverflow-survey\" on https://jovian.com\u001b[0m\n",
      "[jovian] Committed successfully! https://jovian.com/shreyasky/python-eda-stackoverflow-survey\u001b[0m\n"
     ]
    },
    {
     "data": {
      "text/plain": [
       "'https://jovian.com/shreyasky/python-eda-stackoverflow-survey'"
      ]
     },
     "execution_count": 59,
     "metadata": {},
     "output_type": "execute_result"
    }
   ],
   "source": [
    "import jovian\n",
    "jovian.commit()"
   ]
  },
  {
   "cell_type": "code",
   "execution_count": 66,
   "id": "f0d40179",
   "metadata": {},
   "outputs": [
    {
     "data": {
      "text/plain": [
       "Developer, back-end                              4286\n",
       "Developer, full-stack                            4152\n",
       "Developer, front-end                             3199\n",
       "Developer, desktop or enterprise applications    1864\n",
       "Developer, mobile                                1843\n",
       "Designer                                         1340\n",
       "System administrator                             1012\n",
       "Database administrator                           1006\n",
       "Academic researcher                               914\n",
       "Data or business analyst                          883\n",
       "Data scientist or machine learning specialist     863\n",
       "Developer, embedded applications or devices       860\n",
       "DevOps specialist                                 697\n",
       "Engineer, data                                    690\n",
       "Educator                                          676\n",
       "Developer, game or graphics                       673\n",
       "Developer, QA or test                             643\n",
       "Product manager                                   551\n",
       "Engineering manager                               525\n",
       "Scientist                                         439\n",
       "dtype: int64"
      ]
     },
     "execution_count": 66,
     "metadata": {},
     "output_type": "execute_result"
    }
   ],
   "source": [
    "dev_type_df.sum().sort_values(ascending=False).head(20)"
   ]
  },
  {
   "cell_type": "code",
   "execution_count": 67,
   "id": "b9f57cc0",
   "metadata": {},
   "outputs": [
    {
     "data": {
      "application/javascript": [
       "window.require && require([\"base/js/namespace\"],function(Jupyter){Jupyter.notebook.save_checkpoint()})"
      ],
      "text/plain": [
       "<IPython.core.display.Javascript object>"
      ]
     },
     "metadata": {},
     "output_type": "display_data"
    },
    {
     "name": "stdout",
     "output_type": "stream",
     "text": [
      "[jovian] Updating notebook \"shreyasky/python-eda-stackoverflow-survey\" on https://jovian.com\u001b[0m\n",
      "[jovian] Committed successfully! https://jovian.com/shreyasky/python-eda-stackoverflow-survey\u001b[0m\n"
     ]
    },
    {
     "data": {
      "text/plain": [
       "'https://jovian.com/shreyasky/python-eda-stackoverflow-survey'"
      ]
     },
     "execution_count": 67,
     "metadata": {},
     "output_type": "execute_result"
    }
   ],
   "source": [
    "import jovian\n",
    "jovian.commit()"
   ]
  },
  {
   "cell_type": "code",
   "execution_count": null,
   "id": "5e12c368",
   "metadata": {},
   "outputs": [],
   "source": []
  }
 ],
 "metadata": {
  "kernelspec": {
   "display_name": "Python 3 (ipykernel)",
   "language": "python",
   "name": "python3"
  },
  "language_info": {
   "codemirror_mode": {
    "name": "ipython",
    "version": 3
   },
   "file_extension": ".py",
   "mimetype": "text/x-python",
   "name": "python",
   "nbconvert_exporter": "python",
   "pygments_lexer": "ipython3",
   "version": "3.9.7"
  }
 },
 "nbformat": 4,
 "nbformat_minor": 5
}
